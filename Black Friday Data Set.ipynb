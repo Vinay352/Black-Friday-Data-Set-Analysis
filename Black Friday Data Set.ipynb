{
 "cells": [
  {
   "cell_type": "markdown",
   "metadata": {},
   "source": [
    "# Black Friday Data Set Analysis\n",
    "\n",
    "A retail company “ABC Private Limited” wants to understand the customer purchase behaviour (specifically, purchase amount) against various products of different categories. They have shared purchase summary of various customers for selected high volume products from last month.\n",
    "\n",
    "The data set also contains customer demographics (age, gender, marital status, city_type, stay_in_current_city), product details (product_id and product category) and Total purchase_amount from last month.\n",
    "\n",
    "Now, they want to build a model to predict the purchase amount of customer against various products which will help them to create personalized offer for customers against different products.\n",
    "\n",
    "#### Data Set Description\n",
    "- Variable:\tDefinition\n",
    "- User_ID:\tUser ID\n",
    "- Product_ID:\tProduct ID\n",
    "- Gender:\tSex of User\n",
    "- Age:\tAge in bins\n",
    "- Occupation:\tOccupation (Masked)\n",
    "- City_Category:\tCategory of the City (A,B,C)\n",
    "- Stay_In_Current_City_Years:\tNumber of years stay in current city\n",
    "- Marital_Status:\tMarital Status\n",
    "- Product_Category_1:\tProduct Category (Masked)\n",
    "- Product_Category_2:\tProduct may belongs to other category also (Masked)\n",
    "- Product_Category_3:\tProduct may belongs to other category also (Masked)\n",
    "- Purchase:\tPurchase Amount (Target Variable)"
   ]
  },
  {
   "cell_type": "markdown",
   "metadata": {},
   "source": [
    "## Data Loading"
   ]
  },
  {
   "cell_type": "code",
   "execution_count": 1,
   "metadata": {},
   "outputs": [],
   "source": [
    "import pandas as pd, numpy as np, matplotlib.pyplot as plt"
   ]
  },
  {
   "cell_type": "code",
   "execution_count": 2,
   "metadata": {},
   "outputs": [
    {
     "data": {
      "text/html": [
       "<div>\n",
       "<style scoped>\n",
       "    .dataframe tbody tr th:only-of-type {\n",
       "        vertical-align: middle;\n",
       "    }\n",
       "\n",
       "    .dataframe tbody tr th {\n",
       "        vertical-align: top;\n",
       "    }\n",
       "\n",
       "    .dataframe thead th {\n",
       "        text-align: right;\n",
       "    }\n",
       "</style>\n",
       "<table border=\"1\" class=\"dataframe\">\n",
       "  <thead>\n",
       "    <tr style=\"text-align: right;\">\n",
       "      <th></th>\n",
       "      <th>User_ID</th>\n",
       "      <th>Product_ID</th>\n",
       "      <th>Gender</th>\n",
       "      <th>Age</th>\n",
       "      <th>Occupation</th>\n",
       "      <th>City_Category</th>\n",
       "      <th>Stay_In_Current_City_Years</th>\n",
       "      <th>Marital_Status</th>\n",
       "      <th>Product_Category_1</th>\n",
       "      <th>Product_Category_2</th>\n",
       "      <th>Product_Category_3</th>\n",
       "      <th>Purchase</th>\n",
       "    </tr>\n",
       "  </thead>\n",
       "  <tbody>\n",
       "    <tr>\n",
       "      <th>0</th>\n",
       "      <td>1000001</td>\n",
       "      <td>P00069042</td>\n",
       "      <td>F</td>\n",
       "      <td>0-17</td>\n",
       "      <td>10</td>\n",
       "      <td>A</td>\n",
       "      <td>2</td>\n",
       "      <td>0</td>\n",
       "      <td>3</td>\n",
       "      <td>NaN</td>\n",
       "      <td>NaN</td>\n",
       "      <td>8370</td>\n",
       "    </tr>\n",
       "    <tr>\n",
       "      <th>1</th>\n",
       "      <td>1000001</td>\n",
       "      <td>P00248942</td>\n",
       "      <td>F</td>\n",
       "      <td>0-17</td>\n",
       "      <td>10</td>\n",
       "      <td>A</td>\n",
       "      <td>2</td>\n",
       "      <td>0</td>\n",
       "      <td>1</td>\n",
       "      <td>6.0</td>\n",
       "      <td>14.0</td>\n",
       "      <td>15200</td>\n",
       "    </tr>\n",
       "    <tr>\n",
       "      <th>2</th>\n",
       "      <td>1000001</td>\n",
       "      <td>P00087842</td>\n",
       "      <td>F</td>\n",
       "      <td>0-17</td>\n",
       "      <td>10</td>\n",
       "      <td>A</td>\n",
       "      <td>2</td>\n",
       "      <td>0</td>\n",
       "      <td>12</td>\n",
       "      <td>NaN</td>\n",
       "      <td>NaN</td>\n",
       "      <td>1422</td>\n",
       "    </tr>\n",
       "    <tr>\n",
       "      <th>3</th>\n",
       "      <td>1000001</td>\n",
       "      <td>P00085442</td>\n",
       "      <td>F</td>\n",
       "      <td>0-17</td>\n",
       "      <td>10</td>\n",
       "      <td>A</td>\n",
       "      <td>2</td>\n",
       "      <td>0</td>\n",
       "      <td>12</td>\n",
       "      <td>14.0</td>\n",
       "      <td>NaN</td>\n",
       "      <td>1057</td>\n",
       "    </tr>\n",
       "    <tr>\n",
       "      <th>4</th>\n",
       "      <td>1000002</td>\n",
       "      <td>P00285442</td>\n",
       "      <td>M</td>\n",
       "      <td>55+</td>\n",
       "      <td>16</td>\n",
       "      <td>C</td>\n",
       "      <td>4+</td>\n",
       "      <td>0</td>\n",
       "      <td>8</td>\n",
       "      <td>NaN</td>\n",
       "      <td>NaN</td>\n",
       "      <td>7969</td>\n",
       "    </tr>\n",
       "  </tbody>\n",
       "</table>\n",
       "</div>"
      ],
      "text/plain": [
       "   User_ID Product_ID Gender   Age  Occupation City_Category  \\\n",
       "0  1000001  P00069042      F  0-17          10             A   \n",
       "1  1000001  P00248942      F  0-17          10             A   \n",
       "2  1000001  P00087842      F  0-17          10             A   \n",
       "3  1000001  P00085442      F  0-17          10             A   \n",
       "4  1000002  P00285442      M   55+          16             C   \n",
       "\n",
       "  Stay_In_Current_City_Years  Marital_Status  Product_Category_1  \\\n",
       "0                          2               0                   3   \n",
       "1                          2               0                   1   \n",
       "2                          2               0                  12   \n",
       "3                          2               0                  12   \n",
       "4                         4+               0                   8   \n",
       "\n",
       "   Product_Category_2  Product_Category_3  Purchase  \n",
       "0                 NaN                 NaN      8370  \n",
       "1                 6.0                14.0     15200  \n",
       "2                 NaN                 NaN      1422  \n",
       "3                14.0                 NaN      1057  \n",
       "4                 NaN                 NaN      7969  "
      ]
     },
     "execution_count": 2,
     "metadata": {},
     "output_type": "execute_result"
    }
   ],
   "source": [
    "train=pd.read_csv('/home/vinay/Downloads/Black Friday/train.csv')\n",
    "train.head()"
   ]
  },
  {
   "cell_type": "code",
   "execution_count": 3,
   "metadata": {},
   "outputs": [
    {
     "data": {
      "text/html": [
       "<div>\n",
       "<style scoped>\n",
       "    .dataframe tbody tr th:only-of-type {\n",
       "        vertical-align: middle;\n",
       "    }\n",
       "\n",
       "    .dataframe tbody tr th {\n",
       "        vertical-align: top;\n",
       "    }\n",
       "\n",
       "    .dataframe thead th {\n",
       "        text-align: right;\n",
       "    }\n",
       "</style>\n",
       "<table border=\"1\" class=\"dataframe\">\n",
       "  <thead>\n",
       "    <tr style=\"text-align: right;\">\n",
       "      <th></th>\n",
       "      <th>User_ID</th>\n",
       "      <th>Product_ID</th>\n",
       "      <th>Gender</th>\n",
       "      <th>Age</th>\n",
       "      <th>Occupation</th>\n",
       "      <th>City_Category</th>\n",
       "      <th>Stay_In_Current_City_Years</th>\n",
       "      <th>Marital_Status</th>\n",
       "      <th>Product_Category_1</th>\n",
       "      <th>Product_Category_2</th>\n",
       "      <th>Product_Category_3</th>\n",
       "    </tr>\n",
       "  </thead>\n",
       "  <tbody>\n",
       "    <tr>\n",
       "      <th>0</th>\n",
       "      <td>1000004</td>\n",
       "      <td>P00128942</td>\n",
       "      <td>M</td>\n",
       "      <td>46-50</td>\n",
       "      <td>7</td>\n",
       "      <td>B</td>\n",
       "      <td>2</td>\n",
       "      <td>1</td>\n",
       "      <td>1</td>\n",
       "      <td>11.0</td>\n",
       "      <td>NaN</td>\n",
       "    </tr>\n",
       "    <tr>\n",
       "      <th>1</th>\n",
       "      <td>1000009</td>\n",
       "      <td>P00113442</td>\n",
       "      <td>M</td>\n",
       "      <td>26-35</td>\n",
       "      <td>17</td>\n",
       "      <td>C</td>\n",
       "      <td>0</td>\n",
       "      <td>0</td>\n",
       "      <td>3</td>\n",
       "      <td>5.0</td>\n",
       "      <td>NaN</td>\n",
       "    </tr>\n",
       "    <tr>\n",
       "      <th>2</th>\n",
       "      <td>1000010</td>\n",
       "      <td>P00288442</td>\n",
       "      <td>F</td>\n",
       "      <td>36-45</td>\n",
       "      <td>1</td>\n",
       "      <td>B</td>\n",
       "      <td>4+</td>\n",
       "      <td>1</td>\n",
       "      <td>5</td>\n",
       "      <td>14.0</td>\n",
       "      <td>NaN</td>\n",
       "    </tr>\n",
       "    <tr>\n",
       "      <th>3</th>\n",
       "      <td>1000010</td>\n",
       "      <td>P00145342</td>\n",
       "      <td>F</td>\n",
       "      <td>36-45</td>\n",
       "      <td>1</td>\n",
       "      <td>B</td>\n",
       "      <td>4+</td>\n",
       "      <td>1</td>\n",
       "      <td>4</td>\n",
       "      <td>9.0</td>\n",
       "      <td>NaN</td>\n",
       "    </tr>\n",
       "    <tr>\n",
       "      <th>4</th>\n",
       "      <td>1000011</td>\n",
       "      <td>P00053842</td>\n",
       "      <td>F</td>\n",
       "      <td>26-35</td>\n",
       "      <td>1</td>\n",
       "      <td>C</td>\n",
       "      <td>1</td>\n",
       "      <td>0</td>\n",
       "      <td>4</td>\n",
       "      <td>5.0</td>\n",
       "      <td>12.0</td>\n",
       "    </tr>\n",
       "  </tbody>\n",
       "</table>\n",
       "</div>"
      ],
      "text/plain": [
       "   User_ID Product_ID Gender    Age  Occupation City_Category  \\\n",
       "0  1000004  P00128942      M  46-50           7             B   \n",
       "1  1000009  P00113442      M  26-35          17             C   \n",
       "2  1000010  P00288442      F  36-45           1             B   \n",
       "3  1000010  P00145342      F  36-45           1             B   \n",
       "4  1000011  P00053842      F  26-35           1             C   \n",
       "\n",
       "  Stay_In_Current_City_Years  Marital_Status  Product_Category_1  \\\n",
       "0                          2               1                   1   \n",
       "1                          0               0                   3   \n",
       "2                         4+               1                   5   \n",
       "3                         4+               1                   4   \n",
       "4                          1               0                   4   \n",
       "\n",
       "   Product_Category_2  Product_Category_3  \n",
       "0                11.0                 NaN  \n",
       "1                 5.0                 NaN  \n",
       "2                14.0                 NaN  \n",
       "3                 9.0                 NaN  \n",
       "4                 5.0                12.0  "
      ]
     },
     "execution_count": 3,
     "metadata": {},
     "output_type": "execute_result"
    }
   ],
   "source": [
    "test=pd.read_csv('/home/vinay/Downloads/Black Friday/test.csv')\n",
    "test.head()"
   ]
  },
  {
   "cell_type": "code",
   "execution_count": 4,
   "metadata": {},
   "outputs": [
    {
     "data": {
      "text/plain": [
       "User_ID                         int64\n",
       "Product_ID                     object\n",
       "Gender                         object\n",
       "Age                            object\n",
       "Occupation                      int64\n",
       "City_Category                  object\n",
       "Stay_In_Current_City_Years     object\n",
       "Marital_Status                  int64\n",
       "Product_Category_1              int64\n",
       "Product_Category_2            float64\n",
       "Product_Category_3            float64\n",
       "Purchase                        int64\n",
       "dtype: object"
      ]
     },
     "execution_count": 4,
     "metadata": {},
     "output_type": "execute_result"
    }
   ],
   "source": [
    "train.dtypes"
   ]
  },
  {
   "cell_type": "code",
   "execution_count": 5,
   "metadata": {},
   "outputs": [
    {
     "data": {
      "text/plain": [
       "User_ID                         int64\n",
       "Product_ID                     object\n",
       "Gender                         object\n",
       "Age                            object\n",
       "Occupation                      int64\n",
       "City_Category                  object\n",
       "Stay_In_Current_City_Years     object\n",
       "Marital_Status                  int64\n",
       "Product_Category_1              int64\n",
       "Product_Category_2            float64\n",
       "Product_Category_3            float64\n",
       "dtype: object"
      ]
     },
     "execution_count": 5,
     "metadata": {},
     "output_type": "execute_result"
    }
   ],
   "source": [
    "test.dtypes"
   ]
  },
  {
   "cell_type": "markdown",
   "metadata": {},
   "source": [
    "## Data Dictionary"
   ]
  },
  {
   "cell_type": "code",
   "execution_count": 6,
   "metadata": {},
   "outputs": [
    {
     "data": {
      "text/html": [
       "<div>\n",
       "<style scoped>\n",
       "    .dataframe tbody tr th:only-of-type {\n",
       "        vertical-align: middle;\n",
       "    }\n",
       "\n",
       "    .dataframe tbody tr th {\n",
       "        vertical-align: top;\n",
       "    }\n",
       "\n",
       "    .dataframe thead th {\n",
       "        text-align: right;\n",
       "    }\n",
       "</style>\n",
       "<table border=\"1\" class=\"dataframe\">\n",
       "  <thead>\n",
       "    <tr style=\"text-align: right;\">\n",
       "      <th></th>\n",
       "      <th>DataType</th>\n",
       "      <th>MissingValues</th>\n",
       "      <th>UniqueValues</th>\n",
       "      <th>Count</th>\n",
       "    </tr>\n",
       "  </thead>\n",
       "  <tbody>\n",
       "    <tr>\n",
       "      <th>User_ID</th>\n",
       "      <td>int64</td>\n",
       "      <td>0</td>\n",
       "      <td>5891</td>\n",
       "      <td>550068</td>\n",
       "    </tr>\n",
       "    <tr>\n",
       "      <th>Product_ID</th>\n",
       "      <td>object</td>\n",
       "      <td>0</td>\n",
       "      <td>3631</td>\n",
       "      <td>550068</td>\n",
       "    </tr>\n",
       "    <tr>\n",
       "      <th>Gender</th>\n",
       "      <td>object</td>\n",
       "      <td>0</td>\n",
       "      <td>2</td>\n",
       "      <td>550068</td>\n",
       "    </tr>\n",
       "    <tr>\n",
       "      <th>Age</th>\n",
       "      <td>object</td>\n",
       "      <td>0</td>\n",
       "      <td>7</td>\n",
       "      <td>550068</td>\n",
       "    </tr>\n",
       "    <tr>\n",
       "      <th>Occupation</th>\n",
       "      <td>int64</td>\n",
       "      <td>0</td>\n",
       "      <td>21</td>\n",
       "      <td>550068</td>\n",
       "    </tr>\n",
       "    <tr>\n",
       "      <th>City_Category</th>\n",
       "      <td>object</td>\n",
       "      <td>0</td>\n",
       "      <td>3</td>\n",
       "      <td>550068</td>\n",
       "    </tr>\n",
       "    <tr>\n",
       "      <th>Stay_In_Current_City_Years</th>\n",
       "      <td>object</td>\n",
       "      <td>0</td>\n",
       "      <td>5</td>\n",
       "      <td>550068</td>\n",
       "    </tr>\n",
       "    <tr>\n",
       "      <th>Marital_Status</th>\n",
       "      <td>int64</td>\n",
       "      <td>0</td>\n",
       "      <td>2</td>\n",
       "      <td>550068</td>\n",
       "    </tr>\n",
       "    <tr>\n",
       "      <th>Product_Category_1</th>\n",
       "      <td>int64</td>\n",
       "      <td>0</td>\n",
       "      <td>20</td>\n",
       "      <td>550068</td>\n",
       "    </tr>\n",
       "    <tr>\n",
       "      <th>Product_Category_2</th>\n",
       "      <td>float64</td>\n",
       "      <td>173638</td>\n",
       "      <td>17</td>\n",
       "      <td>376430</td>\n",
       "    </tr>\n",
       "    <tr>\n",
       "      <th>Product_Category_3</th>\n",
       "      <td>float64</td>\n",
       "      <td>383247</td>\n",
       "      <td>15</td>\n",
       "      <td>166821</td>\n",
       "    </tr>\n",
       "    <tr>\n",
       "      <th>Purchase</th>\n",
       "      <td>int64</td>\n",
       "      <td>0</td>\n",
       "      <td>18105</td>\n",
       "      <td>550068</td>\n",
       "    </tr>\n",
       "  </tbody>\n",
       "</table>\n",
       "</div>"
      ],
      "text/plain": [
       "                           DataType  MissingValues  UniqueValues   Count\n",
       "User_ID                       int64              0          5891  550068\n",
       "Product_ID                   object              0          3631  550068\n",
       "Gender                       object              0             2  550068\n",
       "Age                          object              0             7  550068\n",
       "Occupation                    int64              0            21  550068\n",
       "City_Category                object              0             3  550068\n",
       "Stay_In_Current_City_Years   object              0             5  550068\n",
       "Marital_Status                int64              0             2  550068\n",
       "Product_Category_1            int64              0            20  550068\n",
       "Product_Category_2          float64         173638            17  376430\n",
       "Product_Category_3          float64         383247            15  166821\n",
       "Purchase                      int64              0         18105  550068"
      ]
     },
     "execution_count": 6,
     "metadata": {},
     "output_type": "execute_result"
    }
   ],
   "source": [
    "traindict=pd.DataFrame(train.dtypes)\n",
    "traindict['MissingValues']=train.isnull().sum()\n",
    "traindict['UniqueValues']=train.nunique()\n",
    "traindict['Count']=train.count()\n",
    "traindict=traindict.rename(columns={0:'DataType'})\n",
    "traindict"
   ]
  },
  {
   "cell_type": "code",
   "execution_count": 7,
   "metadata": {},
   "outputs": [
    {
     "data": {
      "text/html": [
       "<div>\n",
       "<style scoped>\n",
       "    .dataframe tbody tr th:only-of-type {\n",
       "        vertical-align: middle;\n",
       "    }\n",
       "\n",
       "    .dataframe tbody tr th {\n",
       "        vertical-align: top;\n",
       "    }\n",
       "\n",
       "    .dataframe thead th {\n",
       "        text-align: right;\n",
       "    }\n",
       "</style>\n",
       "<table border=\"1\" class=\"dataframe\">\n",
       "  <thead>\n",
       "    <tr style=\"text-align: right;\">\n",
       "      <th></th>\n",
       "      <th>DataType</th>\n",
       "      <th>MissingValues</th>\n",
       "      <th>UniqueValues</th>\n",
       "      <th>Count</th>\n",
       "    </tr>\n",
       "  </thead>\n",
       "  <tbody>\n",
       "    <tr>\n",
       "      <th>User_ID</th>\n",
       "      <td>int64</td>\n",
       "      <td>0</td>\n",
       "      <td>5891</td>\n",
       "      <td>233599</td>\n",
       "    </tr>\n",
       "    <tr>\n",
       "      <th>Product_ID</th>\n",
       "      <td>object</td>\n",
       "      <td>0</td>\n",
       "      <td>3491</td>\n",
       "      <td>233599</td>\n",
       "    </tr>\n",
       "    <tr>\n",
       "      <th>Gender</th>\n",
       "      <td>object</td>\n",
       "      <td>0</td>\n",
       "      <td>2</td>\n",
       "      <td>233599</td>\n",
       "    </tr>\n",
       "    <tr>\n",
       "      <th>Age</th>\n",
       "      <td>object</td>\n",
       "      <td>0</td>\n",
       "      <td>7</td>\n",
       "      <td>233599</td>\n",
       "    </tr>\n",
       "    <tr>\n",
       "      <th>Occupation</th>\n",
       "      <td>int64</td>\n",
       "      <td>0</td>\n",
       "      <td>21</td>\n",
       "      <td>233599</td>\n",
       "    </tr>\n",
       "    <tr>\n",
       "      <th>City_Category</th>\n",
       "      <td>object</td>\n",
       "      <td>0</td>\n",
       "      <td>3</td>\n",
       "      <td>233599</td>\n",
       "    </tr>\n",
       "    <tr>\n",
       "      <th>Stay_In_Current_City_Years</th>\n",
       "      <td>object</td>\n",
       "      <td>0</td>\n",
       "      <td>5</td>\n",
       "      <td>233599</td>\n",
       "    </tr>\n",
       "    <tr>\n",
       "      <th>Marital_Status</th>\n",
       "      <td>int64</td>\n",
       "      <td>0</td>\n",
       "      <td>2</td>\n",
       "      <td>233599</td>\n",
       "    </tr>\n",
       "    <tr>\n",
       "      <th>Product_Category_1</th>\n",
       "      <td>int64</td>\n",
       "      <td>0</td>\n",
       "      <td>18</td>\n",
       "      <td>233599</td>\n",
       "    </tr>\n",
       "    <tr>\n",
       "      <th>Product_Category_2</th>\n",
       "      <td>float64</td>\n",
       "      <td>72344</td>\n",
       "      <td>17</td>\n",
       "      <td>161255</td>\n",
       "    </tr>\n",
       "    <tr>\n",
       "      <th>Product_Category_3</th>\n",
       "      <td>float64</td>\n",
       "      <td>162562</td>\n",
       "      <td>15</td>\n",
       "      <td>71037</td>\n",
       "    </tr>\n",
       "  </tbody>\n",
       "</table>\n",
       "</div>"
      ],
      "text/plain": [
       "                           DataType  MissingValues  UniqueValues   Count\n",
       "User_ID                       int64              0          5891  233599\n",
       "Product_ID                   object              0          3491  233599\n",
       "Gender                       object              0             2  233599\n",
       "Age                          object              0             7  233599\n",
       "Occupation                    int64              0            21  233599\n",
       "City_Category                object              0             3  233599\n",
       "Stay_In_Current_City_Years   object              0             5  233599\n",
       "Marital_Status                int64              0             2  233599\n",
       "Product_Category_1            int64              0            18  233599\n",
       "Product_Category_2          float64          72344            17  161255\n",
       "Product_Category_3          float64         162562            15   71037"
      ]
     },
     "execution_count": 7,
     "metadata": {},
     "output_type": "execute_result"
    }
   ],
   "source": [
    "testdict=pd.DataFrame(test.dtypes)\n",
    "testdict['MissingValues']=test.isnull().sum()\n",
    "testdict['UniqueValues']=test.nunique()\n",
    "testdict['Count']=test.count()\n",
    "testdict=testdict.rename(columns={0:'DataType'})\n",
    "testdict"
   ]
  },
  {
   "cell_type": "markdown",
   "metadata": {},
   "source": [
    "## Descriptive Statistics"
   ]
  },
  {
   "cell_type": "code",
   "execution_count": 8,
   "metadata": {},
   "outputs": [
    {
     "data": {
      "text/html": [
       "<div>\n",
       "<style scoped>\n",
       "    .dataframe tbody tr th:only-of-type {\n",
       "        vertical-align: middle;\n",
       "    }\n",
       "\n",
       "    .dataframe tbody tr th {\n",
       "        vertical-align: top;\n",
       "    }\n",
       "\n",
       "    .dataframe thead th {\n",
       "        text-align: right;\n",
       "    }\n",
       "</style>\n",
       "<table border=\"1\" class=\"dataframe\">\n",
       "  <thead>\n",
       "    <tr style=\"text-align: right;\">\n",
       "      <th></th>\n",
       "      <th>Product_ID</th>\n",
       "      <th>Gender</th>\n",
       "      <th>Age</th>\n",
       "      <th>City_Category</th>\n",
       "      <th>Stay_In_Current_City_Years</th>\n",
       "    </tr>\n",
       "  </thead>\n",
       "  <tbody>\n",
       "    <tr>\n",
       "      <th>count</th>\n",
       "      <td>550068</td>\n",
       "      <td>550068</td>\n",
       "      <td>550068</td>\n",
       "      <td>550068</td>\n",
       "      <td>550068</td>\n",
       "    </tr>\n",
       "    <tr>\n",
       "      <th>unique</th>\n",
       "      <td>3631</td>\n",
       "      <td>2</td>\n",
       "      <td>7</td>\n",
       "      <td>3</td>\n",
       "      <td>5</td>\n",
       "    </tr>\n",
       "    <tr>\n",
       "      <th>top</th>\n",
       "      <td>P00265242</td>\n",
       "      <td>M</td>\n",
       "      <td>26-35</td>\n",
       "      <td>B</td>\n",
       "      <td>1</td>\n",
       "    </tr>\n",
       "    <tr>\n",
       "      <th>freq</th>\n",
       "      <td>1880</td>\n",
       "      <td>414259</td>\n",
       "      <td>219587</td>\n",
       "      <td>231173</td>\n",
       "      <td>193821</td>\n",
       "    </tr>\n",
       "  </tbody>\n",
       "</table>\n",
       "</div>"
      ],
      "text/plain": [
       "       Product_ID  Gender     Age City_Category Stay_In_Current_City_Years\n",
       "count      550068  550068  550068        550068                     550068\n",
       "unique       3631       2       7             3                          5\n",
       "top     P00265242       M   26-35             B                          1\n",
       "freq         1880  414259  219587        231173                     193821"
      ]
     },
     "execution_count": 8,
     "metadata": {},
     "output_type": "execute_result"
    }
   ],
   "source": [
    "train.describe(include=['object'])"
   ]
  },
  {
   "cell_type": "code",
   "execution_count": 9,
   "metadata": {},
   "outputs": [
    {
     "data": {
      "text/html": [
       "<div>\n",
       "<style scoped>\n",
       "    .dataframe tbody tr th:only-of-type {\n",
       "        vertical-align: middle;\n",
       "    }\n",
       "\n",
       "    .dataframe tbody tr th {\n",
       "        vertical-align: top;\n",
       "    }\n",
       "\n",
       "    .dataframe thead th {\n",
       "        text-align: right;\n",
       "    }\n",
       "</style>\n",
       "<table border=\"1\" class=\"dataframe\">\n",
       "  <thead>\n",
       "    <tr style=\"text-align: right;\">\n",
       "      <th></th>\n",
       "      <th>User_ID</th>\n",
       "      <th>Occupation</th>\n",
       "      <th>Marital_Status</th>\n",
       "      <th>Product_Category_1</th>\n",
       "      <th>Product_Category_2</th>\n",
       "      <th>Product_Category_3</th>\n",
       "      <th>Purchase</th>\n",
       "    </tr>\n",
       "  </thead>\n",
       "  <tbody>\n",
       "    <tr>\n",
       "      <th>count</th>\n",
       "      <td>5.500680e+05</td>\n",
       "      <td>550068.000000</td>\n",
       "      <td>550068.000000</td>\n",
       "      <td>550068.000000</td>\n",
       "      <td>376430.000000</td>\n",
       "      <td>166821.000000</td>\n",
       "      <td>550068.000000</td>\n",
       "    </tr>\n",
       "    <tr>\n",
       "      <th>mean</th>\n",
       "      <td>1.003029e+06</td>\n",
       "      <td>8.076707</td>\n",
       "      <td>0.409653</td>\n",
       "      <td>5.404270</td>\n",
       "      <td>9.842329</td>\n",
       "      <td>12.668243</td>\n",
       "      <td>9263.968713</td>\n",
       "    </tr>\n",
       "    <tr>\n",
       "      <th>std</th>\n",
       "      <td>1.727592e+03</td>\n",
       "      <td>6.522660</td>\n",
       "      <td>0.491770</td>\n",
       "      <td>3.936211</td>\n",
       "      <td>5.086590</td>\n",
       "      <td>4.125338</td>\n",
       "      <td>5023.065394</td>\n",
       "    </tr>\n",
       "    <tr>\n",
       "      <th>min</th>\n",
       "      <td>1.000001e+06</td>\n",
       "      <td>0.000000</td>\n",
       "      <td>0.000000</td>\n",
       "      <td>1.000000</td>\n",
       "      <td>2.000000</td>\n",
       "      <td>3.000000</td>\n",
       "      <td>12.000000</td>\n",
       "    </tr>\n",
       "    <tr>\n",
       "      <th>25%</th>\n",
       "      <td>1.001516e+06</td>\n",
       "      <td>2.000000</td>\n",
       "      <td>0.000000</td>\n",
       "      <td>1.000000</td>\n",
       "      <td>5.000000</td>\n",
       "      <td>9.000000</td>\n",
       "      <td>5823.000000</td>\n",
       "    </tr>\n",
       "    <tr>\n",
       "      <th>50%</th>\n",
       "      <td>1.003077e+06</td>\n",
       "      <td>7.000000</td>\n",
       "      <td>0.000000</td>\n",
       "      <td>5.000000</td>\n",
       "      <td>9.000000</td>\n",
       "      <td>14.000000</td>\n",
       "      <td>8047.000000</td>\n",
       "    </tr>\n",
       "    <tr>\n",
       "      <th>75%</th>\n",
       "      <td>1.004478e+06</td>\n",
       "      <td>14.000000</td>\n",
       "      <td>1.000000</td>\n",
       "      <td>8.000000</td>\n",
       "      <td>15.000000</td>\n",
       "      <td>16.000000</td>\n",
       "      <td>12054.000000</td>\n",
       "    </tr>\n",
       "    <tr>\n",
       "      <th>max</th>\n",
       "      <td>1.006040e+06</td>\n",
       "      <td>20.000000</td>\n",
       "      <td>1.000000</td>\n",
       "      <td>20.000000</td>\n",
       "      <td>18.000000</td>\n",
       "      <td>18.000000</td>\n",
       "      <td>23961.000000</td>\n",
       "    </tr>\n",
       "  </tbody>\n",
       "</table>\n",
       "</div>"
      ],
      "text/plain": [
       "            User_ID     Occupation  Marital_Status  Product_Category_1  \\\n",
       "count  5.500680e+05  550068.000000   550068.000000       550068.000000   \n",
       "mean   1.003029e+06       8.076707        0.409653            5.404270   \n",
       "std    1.727592e+03       6.522660        0.491770            3.936211   \n",
       "min    1.000001e+06       0.000000        0.000000            1.000000   \n",
       "25%    1.001516e+06       2.000000        0.000000            1.000000   \n",
       "50%    1.003077e+06       7.000000        0.000000            5.000000   \n",
       "75%    1.004478e+06      14.000000        1.000000            8.000000   \n",
       "max    1.006040e+06      20.000000        1.000000           20.000000   \n",
       "\n",
       "       Product_Category_2  Product_Category_3       Purchase  \n",
       "count       376430.000000       166821.000000  550068.000000  \n",
       "mean             9.842329           12.668243    9263.968713  \n",
       "std              5.086590            4.125338    5023.065394  \n",
       "min              2.000000            3.000000      12.000000  \n",
       "25%              5.000000            9.000000    5823.000000  \n",
       "50%              9.000000           14.000000    8047.000000  \n",
       "75%             15.000000           16.000000   12054.000000  \n",
       "max             18.000000           18.000000   23961.000000  "
      ]
     },
     "execution_count": 9,
     "metadata": {},
     "output_type": "execute_result"
    }
   ],
   "source": [
    "train.describe(include=['number'])"
   ]
  },
  {
   "cell_type": "code",
   "execution_count": 10,
   "metadata": {},
   "outputs": [
    {
     "data": {
      "text/html": [
       "<div>\n",
       "<style scoped>\n",
       "    .dataframe tbody tr th:only-of-type {\n",
       "        vertical-align: middle;\n",
       "    }\n",
       "\n",
       "    .dataframe tbody tr th {\n",
       "        vertical-align: top;\n",
       "    }\n",
       "\n",
       "    .dataframe thead th {\n",
       "        text-align: right;\n",
       "    }\n",
       "</style>\n",
       "<table border=\"1\" class=\"dataframe\">\n",
       "  <thead>\n",
       "    <tr style=\"text-align: right;\">\n",
       "      <th></th>\n",
       "      <th>Product_ID</th>\n",
       "      <th>Gender</th>\n",
       "      <th>Age</th>\n",
       "      <th>City_Category</th>\n",
       "      <th>Stay_In_Current_City_Years</th>\n",
       "    </tr>\n",
       "  </thead>\n",
       "  <tbody>\n",
       "    <tr>\n",
       "      <th>count</th>\n",
       "      <td>233599</td>\n",
       "      <td>233599</td>\n",
       "      <td>233599</td>\n",
       "      <td>233599</td>\n",
       "      <td>233599</td>\n",
       "    </tr>\n",
       "    <tr>\n",
       "      <th>unique</th>\n",
       "      <td>3491</td>\n",
       "      <td>2</td>\n",
       "      <td>7</td>\n",
       "      <td>3</td>\n",
       "      <td>5</td>\n",
       "    </tr>\n",
       "    <tr>\n",
       "      <th>top</th>\n",
       "      <td>P00265242</td>\n",
       "      <td>M</td>\n",
       "      <td>26-35</td>\n",
       "      <td>B</td>\n",
       "      <td>1</td>\n",
       "    </tr>\n",
       "    <tr>\n",
       "      <th>freq</th>\n",
       "      <td>829</td>\n",
       "      <td>175772</td>\n",
       "      <td>93428</td>\n",
       "      <td>98566</td>\n",
       "      <td>82604</td>\n",
       "    </tr>\n",
       "  </tbody>\n",
       "</table>\n",
       "</div>"
      ],
      "text/plain": [
       "       Product_ID  Gender     Age City_Category Stay_In_Current_City_Years\n",
       "count      233599  233599  233599        233599                     233599\n",
       "unique       3491       2       7             3                          5\n",
       "top     P00265242       M   26-35             B                          1\n",
       "freq          829  175772   93428         98566                      82604"
      ]
     },
     "execution_count": 10,
     "metadata": {},
     "output_type": "execute_result"
    }
   ],
   "source": [
    "test.describe(include=['object'])"
   ]
  },
  {
   "cell_type": "code",
   "execution_count": 11,
   "metadata": {
    "scrolled": true
   },
   "outputs": [
    {
     "data": {
      "text/html": [
       "<div>\n",
       "<style scoped>\n",
       "    .dataframe tbody tr th:only-of-type {\n",
       "        vertical-align: middle;\n",
       "    }\n",
       "\n",
       "    .dataframe tbody tr th {\n",
       "        vertical-align: top;\n",
       "    }\n",
       "\n",
       "    .dataframe thead th {\n",
       "        text-align: right;\n",
       "    }\n",
       "</style>\n",
       "<table border=\"1\" class=\"dataframe\">\n",
       "  <thead>\n",
       "    <tr style=\"text-align: right;\">\n",
       "      <th></th>\n",
       "      <th>User_ID</th>\n",
       "      <th>Occupation</th>\n",
       "      <th>Marital_Status</th>\n",
       "      <th>Product_Category_1</th>\n",
       "      <th>Product_Category_2</th>\n",
       "      <th>Product_Category_3</th>\n",
       "    </tr>\n",
       "  </thead>\n",
       "  <tbody>\n",
       "    <tr>\n",
       "      <th>count</th>\n",
       "      <td>2.335990e+05</td>\n",
       "      <td>233599.000000</td>\n",
       "      <td>233599.000000</td>\n",
       "      <td>233599.000000</td>\n",
       "      <td>161255.000000</td>\n",
       "      <td>71037.000000</td>\n",
       "    </tr>\n",
       "    <tr>\n",
       "      <th>mean</th>\n",
       "      <td>1.003029e+06</td>\n",
       "      <td>8.085407</td>\n",
       "      <td>0.410070</td>\n",
       "      <td>5.276542</td>\n",
       "      <td>9.849586</td>\n",
       "      <td>12.669454</td>\n",
       "    </tr>\n",
       "    <tr>\n",
       "      <th>std</th>\n",
       "      <td>1.726505e+03</td>\n",
       "      <td>6.521146</td>\n",
       "      <td>0.491847</td>\n",
       "      <td>3.736380</td>\n",
       "      <td>5.094943</td>\n",
       "      <td>4.125944</td>\n",
       "    </tr>\n",
       "    <tr>\n",
       "      <th>min</th>\n",
       "      <td>1.000001e+06</td>\n",
       "      <td>0.000000</td>\n",
       "      <td>0.000000</td>\n",
       "      <td>1.000000</td>\n",
       "      <td>2.000000</td>\n",
       "      <td>3.000000</td>\n",
       "    </tr>\n",
       "    <tr>\n",
       "      <th>25%</th>\n",
       "      <td>1.001527e+06</td>\n",
       "      <td>2.000000</td>\n",
       "      <td>0.000000</td>\n",
       "      <td>1.000000</td>\n",
       "      <td>5.000000</td>\n",
       "      <td>9.000000</td>\n",
       "    </tr>\n",
       "    <tr>\n",
       "      <th>50%</th>\n",
       "      <td>1.003070e+06</td>\n",
       "      <td>7.000000</td>\n",
       "      <td>0.000000</td>\n",
       "      <td>5.000000</td>\n",
       "      <td>9.000000</td>\n",
       "      <td>14.000000</td>\n",
       "    </tr>\n",
       "    <tr>\n",
       "      <th>75%</th>\n",
       "      <td>1.004477e+06</td>\n",
       "      <td>14.000000</td>\n",
       "      <td>1.000000</td>\n",
       "      <td>8.000000</td>\n",
       "      <td>15.000000</td>\n",
       "      <td>16.000000</td>\n",
       "    </tr>\n",
       "    <tr>\n",
       "      <th>max</th>\n",
       "      <td>1.006040e+06</td>\n",
       "      <td>20.000000</td>\n",
       "      <td>1.000000</td>\n",
       "      <td>18.000000</td>\n",
       "      <td>18.000000</td>\n",
       "      <td>18.000000</td>\n",
       "    </tr>\n",
       "  </tbody>\n",
       "</table>\n",
       "</div>"
      ],
      "text/plain": [
       "            User_ID     Occupation  Marital_Status  Product_Category_1  \\\n",
       "count  2.335990e+05  233599.000000   233599.000000       233599.000000   \n",
       "mean   1.003029e+06       8.085407        0.410070            5.276542   \n",
       "std    1.726505e+03       6.521146        0.491847            3.736380   \n",
       "min    1.000001e+06       0.000000        0.000000            1.000000   \n",
       "25%    1.001527e+06       2.000000        0.000000            1.000000   \n",
       "50%    1.003070e+06       7.000000        0.000000            5.000000   \n",
       "75%    1.004477e+06      14.000000        1.000000            8.000000   \n",
       "max    1.006040e+06      20.000000        1.000000           18.000000   \n",
       "\n",
       "       Product_Category_2  Product_Category_3  \n",
       "count       161255.000000        71037.000000  \n",
       "mean             9.849586           12.669454  \n",
       "std              5.094943            4.125944  \n",
       "min              2.000000            3.000000  \n",
       "25%              5.000000            9.000000  \n",
       "50%              9.000000           14.000000  \n",
       "75%             15.000000           16.000000  \n",
       "max             18.000000           18.000000  "
      ]
     },
     "execution_count": 11,
     "metadata": {},
     "output_type": "execute_result"
    }
   ],
   "source": [
    "test.describe(include=['number'])"
   ]
  },
  {
   "cell_type": "markdown",
   "metadata": {},
   "source": [
    "## Correlation Matrix"
   ]
  },
  {
   "cell_type": "code",
   "execution_count": 12,
   "metadata": {},
   "outputs": [],
   "source": [
    "train.columns\n",
    "colNames=['Gender', 'Age', 'Occupation', 'City_Category','Stay_In_Current_City_Years',\n",
    "     'Marital_Status', 'Product_Category_1',\n",
    "     'Product_Category_2', 'Product_Category_3']"
   ]
  },
  {
   "cell_type": "code",
   "execution_count": 13,
   "metadata": {},
   "outputs": [
    {
     "data": {
      "text/plain": [
       "array([[<matplotlib.axes._subplots.AxesSubplot object at 0x7ff75e0b8c18>,\n",
       "        <matplotlib.axes._subplots.AxesSubplot object at 0x7ff75cb0b5c0>,\n",
       "        <matplotlib.axes._subplots.AxesSubplot object at 0x7ff74e3fbb38>,\n",
       "        <matplotlib.axes._subplots.AxesSubplot object at 0x7ff75e089208>,\n",
       "        <matplotlib.axes._subplots.AxesSubplot object at 0x7ff75e0ae898>],\n",
       "       [<matplotlib.axes._subplots.AxesSubplot object at 0x7ff75e0ae8d0>,\n",
       "        <matplotlib.axes._subplots.AxesSubplot object at 0x7ff75d46c5f8>,\n",
       "        <matplotlib.axes._subplots.AxesSubplot object at 0x7ff75d491c88>,\n",
       "        <matplotlib.axes._subplots.AxesSubplot object at 0x7ff75d443358>,\n",
       "        <matplotlib.axes._subplots.AxesSubplot object at 0x7ff75d3e99e8>],\n",
       "       [<matplotlib.axes._subplots.AxesSubplot object at 0x7ff75d39a0b8>,\n",
       "        <matplotlib.axes._subplots.AxesSubplot object at 0x7ff75d3c1748>,\n",
       "        <matplotlib.axes._subplots.AxesSubplot object at 0x7ff75d36add8>,\n",
       "        <matplotlib.axes._subplots.AxesSubplot object at 0x7ff75d31c4a8>,\n",
       "        <matplotlib.axes._subplots.AxesSubplot object at 0x7ff75d344b38>],\n",
       "       [<matplotlib.axes._subplots.AxesSubplot object at 0x7ff75d2f2208>,\n",
       "        <matplotlib.axes._subplots.AxesSubplot object at 0x7ff75d29c898>,\n",
       "        <matplotlib.axes._subplots.AxesSubplot object at 0x7ff75d2c2f28>,\n",
       "        <matplotlib.axes._subplots.AxesSubplot object at 0x7ff75d2735f8>,\n",
       "        <matplotlib.axes._subplots.AxesSubplot object at 0x7ff75d21cc88>],\n",
       "       [<matplotlib.axes._subplots.AxesSubplot object at 0x7ff75d24e358>,\n",
       "        <matplotlib.axes._subplots.AxesSubplot object at 0x7ff75d1f39e8>,\n",
       "        <matplotlib.axes._subplots.AxesSubplot object at 0x7ff75d1a50b8>,\n",
       "        <matplotlib.axes._subplots.AxesSubplot object at 0x7ff75d1cd748>,\n",
       "        <matplotlib.axes._subplots.AxesSubplot object at 0x7ff75d174dd8>]],\n",
       "      dtype=object)"
      ]
     },
     "execution_count": 13,
     "metadata": {},
     "output_type": "execute_result"
    },
    {
     "data": {
      "image/png": "[encoded data removed]",
      "text/plain": [
       "<Figure size 1080x1080 with 25 Axes>"
      ]
     },
     "metadata": {
      "needs_background": "light"
     },
     "output_type": "display_data"
    }
   ],
   "source": [
    "from pandas.plotting import scatter_matrix\n",
    "scatter_matrix(train[colNames[:]],alpha=0.2,figsize=(15,15),diagonal='kde')"
   ]
  },
  {
   "cell_type": "code",
   "execution_count": 15,
   "metadata": {},
   "outputs": [
    {
     "data": {
      "text/plain": [
       "<matplotlib.axes._subplots.AxesSubplot at 0x7ff7523020f0>"
      ]
     },
     "execution_count": 15,
     "metadata": {},
     "output_type": "execute_result"
    },
    {
     "data": {
      "image/png": "[encoded data removed]",
      "text/plain": [
       "<Figure size 720x576 with 2 Axes>"
      ]
     },
     "metadata": {
      "needs_background": "light"
     },
     "output_type": "display_data"
    }
   ],
   "source": [
    "import seaborn as sns\n",
    "f, ax = plt.subplots(figsize=(10, 8))\n",
    "corr = train.corr()\n",
    "sns.heatmap(corr,\n",
    "            mask=np.zeros_like(corr, dtype=np.bool), \n",
    "            cmap=sns.diverging_palette(220, 10, as_cmap=True),\n",
    "            square=True, ax=ax)"
   ]
  },
  {
   "cell_type": "markdown",
   "metadata": {},
   "source": [
    "From above correlation matrix, it can be inferred that there is no correlation between any variable. \n",
    "\n",
    "Some +ve correlation exists between:-\n",
    "- Product_Category_1 and Product_Category_2 \n",
    "- Product_Category_2 and Product_Category_3.\n",
    "\n",
    "Some -ve correlation exists between:-\n",
    "- Product_Category_1 and Purchase"
   ]
  },
  {
   "cell_type": "markdown",
   "metadata": {},
   "source": [
    "Replacing the missing values in 'Product_Category_2' and 'Product_Category_3' with <b>zero</b>."
   ]
  },
  {
   "cell_type": "code",
   "execution_count": 16,
   "metadata": {
    "scrolled": true
   },
   "outputs": [],
   "source": [
    "train.Product_Category_2.fillna(0,inplace=True)\n",
    "train.Product_Category_3.fillna(0,inplace=True)"
   ]
  },
  {
   "cell_type": "code",
   "execution_count": 17,
   "metadata": {},
   "outputs": [],
   "source": [
    "test.Product_Category_2.fillna(0,inplace=True)\n",
    "test.Product_Category_3.fillna(0,inplace=True)"
   ]
  },
  {
   "cell_type": "markdown",
   "metadata": {},
   "source": [
    "## Exploratory Data Analysis"
   ]
  },
  {
   "cell_type": "markdown",
   "metadata": {},
   "source": [
    "### Univariate Analysis"
   ]
  },
  {
   "cell_type": "markdown",
   "metadata": {},
   "source": [
    "#### Gender, City_Category, Marital_Status, Stay_In_Current_City_Years (independent variables)"
   ]
  },
  {
   "cell_type": "code",
   "execution_count": 18,
   "metadata": {},
   "outputs": [
    {
     "data": {
      "text/plain": [
       "<matplotlib.axes._subplots.AxesSubplot at 0x7ff750137da0>"
      ]
     },
     "execution_count": 18,
     "metadata": {},
     "output_type": "execute_result"
    },
    {
     "data": {
      "image/png": "[encoded data removed]",
      "text/plain": [
       "<Figure size 1800x360 with 4 Axes>"
      ]
     },
     "metadata": {
      "needs_background": "light"
     },
     "output_type": "display_data"
    }
   ],
   "source": [
    "fig,axes=plt.subplots(1,4,figsize=(25,5))\n",
    "sns.countplot('Gender',data=train,ax=axes[0])\n",
    "sns.countplot('City_Category',data=train,ax=axes[1])\n",
    "sns.countplot('Marital_Status',data=train,ax=axes[2])\n",
    "sns.countplot('Stay_In_Current_City_Years',data=train,ax=axes[3])"
   ]
  },
  {
   "cell_type": "markdown",
   "metadata": {},
   "source": [
    "According to the data set:\n",
    "\n",
    "- Male customers are appx. three times the number of female customers.\n",
    "- Most customers visiting the shop are from City B and the least are from City A.\n",
    "- Majority of customers are non married.\n",
    "- The number of customers who have stayed in the city for 1 year are significantly higher than all other categories. People who are new to the city are the least number of customers coming to the shop."
   ]
  },
  {
   "cell_type": "markdown",
   "metadata": {},
   "source": [
    "#### Age (independent variable)"
   ]
  },
  {
   "cell_type": "code",
   "execution_count": 19,
   "metadata": {},
   "outputs": [
    {
     "data": {
      "text/plain": [
       "<matplotlib.axes._subplots.AxesSubplot at 0x7ff750076e80>"
      ]
     },
     "execution_count": 19,
     "metadata": {},
     "output_type": "execute_result"
    },
    {
     "data": {
      "image/png": "[encoded data removed]",
      "text/plain": [
       "<Figure size 720x288 with 1 Axes>"
      ]
     },
     "metadata": {
      "needs_background": "light"
     },
     "output_type": "display_data"
    }
   ],
   "source": [
    "plt.figure(figsize=(10,4))\n",
    "sns.countplot('Age',data=train)"
   ]
  },
  {
   "cell_type": "markdown",
   "metadata": {},
   "source": [
    "- Number of people of age group 26-35 are significantly higher than every other age group. Perhaps because this age group is the age group where people are likely to spend much because of either their spouse or family reasons, or because they are working and hence, more likely to spend money on parties, work related stuff, groceries and other necessities. \n",
    "- People of age group 0-17 are the customers who shop the least\n",
    "- It can be seen that number of customers rise from least to greatest upto age group of 26-35 and then decrease until age group of 55+, in a chronological sequence."
   ]
  },
  {
   "cell_type": "markdown",
   "metadata": {},
   "source": [
    "#### Occupation (independent variable)\n",
    "\n",
    "The following graph shows the distribution of the number of customers of a particular occupation level who buy products from the shop."
   ]
  },
  {
   "cell_type": "code",
   "execution_count": 20,
   "metadata": {},
   "outputs": [
    {
     "data": {
      "text/plain": [
       "<matplotlib.axes._subplots.AxesSubplot at 0x7ff7500c8518>"
      ]
     },
     "execution_count": 20,
     "metadata": {},
     "output_type": "execute_result"
    },
    {
     "data": {
      "image/png": "[encoded data removed]",
      "text/plain": [
       "<Figure size 1080x360 with 1 Axes>"
      ]
     },
     "metadata": {
      "needs_background": "light"
     },
     "output_type": "display_data"
    }
   ],
   "source": [
    "plt.figure(figsize=(15,5))\n",
    "sns.countplot('Occupation',data=train)"
   ]
  },
  {
   "cell_type": "markdown",
   "metadata": {},
   "source": [
    "It can be inferred that the majority of number of customers belong to low level occupation (0 to 10) whereas the customers with high occupation levels (11 to 20), they do not purchase things from the the store as frequently as the people with low occupation levels."
   ]
  },
  {
   "cell_type": "markdown",
   "metadata": {},
   "source": [
    "#### Product_Category_1, Product_Category_2, Product_Category_3 (independent variables)\n",
    "\n",
    "The 3 figures below visualize the product category 1,2,3 distribution according to their frequency."
   ]
  },
  {
   "cell_type": "code",
   "execution_count": 21,
   "metadata": {},
   "outputs": [
    {
     "data": {
      "text/plain": [
       "<matplotlib.axes._subplots.AxesSubplot at 0x7ff74ff6d4e0>"
      ]
     },
     "execution_count": 21,
     "metadata": {},
     "output_type": "execute_result"
    },
    {
     "data": {
      "image/png": "[encoded data removed]",
      "text/plain": [
       "<Figure size 1080x1080 with 3 Axes>"
      ]
     },
     "metadata": {
      "needs_background": "light"
     },
     "output_type": "display_data"
    }
   ],
   "source": [
    "fig,axes=plt.subplots(3,1,figsize=(15,15))\n",
    "sns.countplot('Product_Category_1',data=train,ax=axes[0])\n",
    "sns.countplot('Product_Category_2',data=train,ax=axes[1])\n",
    "sns.countplot('Product_Category_3',data=train,ax=axes[2])"
   ]
  },
  {
   "cell_type": "markdown",
   "metadata": {},
   "source": [
    "Most of the purchased goods belong to Product_Category_1 (1,5,8). The least purchased products are from Product_Category_3."
   ]
  },
  {
   "cell_type": "markdown",
   "metadata": {},
   "source": [
    "#### Purchase (dependent variable)\n",
    "\n",
    "The following graph visualizes the distribution of purchase values."
   ]
  },
  {
   "cell_type": "code",
   "execution_count": 22,
   "metadata": {},
   "outputs": [
    {
     "data": {
      "text/plain": [
       "<matplotlib.axes._subplots.AxesSubplot at 0x7ff74feb2ba8>"
      ]
     },
     "execution_count": 22,
     "metadata": {},
     "output_type": "execute_result"
    },
    {
     "data": {
      "image/png": "[encoded data removed]",
      "text/plain": [
       "<Figure size 720x360 with 1 Axes>"
      ]
     },
     "metadata": {
      "needs_background": "light"
     },
     "output_type": "display_data"
    }
   ],
   "source": [
    "plt.figure(figsize=(10,5))\n",
    "sns.distplot(train['Purchase'],bins=25)"
   ]
  },
  {
   "cell_type": "markdown",
   "metadata": {},
   "source": [
    "- It can be inferred that most of the puchase values range from 5K to 10K money units.\n",
    "- The number of purchase values higher than 10K money units is not so high. Frequency of purchase values between 20K to 25K is the lowest. \n",
    "- This fact can be corroborated with the 'Occupation' variable distribution which shows that most of the people who shop are from low level occupation and hence are more likely to spend in the above mentioned range i.e. 0 to 10K. \n",
    "- As the number of people who have high occupation level are not as much as their counterpart, therefore the frequency of purchase values > 10K is less."
   ]
  },
  {
   "cell_type": "markdown",
   "metadata": {},
   "source": [
    "### Bivariate Analysis\n",
    "\n",
    "- First figure is for average values\n",
    "- Second figure is for total values"
   ]
  },
  {
   "cell_type": "markdown",
   "metadata": {},
   "source": [
    "#### Gender and Purchase"
   ]
  },
  {
   "cell_type": "code",
   "execution_count": 23,
   "metadata": {},
   "outputs": [
    {
     "name": "stdout",
     "output_type": "stream",
     "text": [
      "Gender\n",
      "F    8734.565765\n",
      "M    9437.526040\n",
      "Name: Purchase, dtype: float64\n"
     ]
    },
    {
     "data": {
      "text/plain": [
       "<matplotlib.axes._subplots.AxesSubplot at 0x7ff74ff289e8>"
      ]
     },
     "execution_count": 23,
     "metadata": {},
     "output_type": "execute_result"
    },
    {
     "data": {
      "image/png": "[encoded data removed]",
      "text/plain": [
       "<Figure size 360x360 with 1 Axes>"
      ]
     },
     "metadata": {
      "needs_background": "light"
     },
     "output_type": "display_data"
    }
   ],
   "source": [
    "print(train.groupby('Gender')['Purchase'].mean())\n",
    "train.groupby('Gender')['Purchase'].mean().plot(kind='bar',figsize=(5,5))"
   ]
  },
  {
   "cell_type": "markdown",
   "metadata": {},
   "source": [
    "The average that every woman spends is about 1K less than that of a man."
   ]
  },
  {
   "cell_type": "code",
   "execution_count": 24,
   "metadata": {},
   "outputs": [
    {
     "name": "stdout",
     "output_type": "stream",
     "text": [
      "Gender\n",
      "F    1186232642\n",
      "M    3909580100\n",
      "Name: Purchase, dtype: int64\n"
     ]
    },
    {
     "data": {
      "text/plain": [
       "<matplotlib.axes._subplots.AxesSubplot at 0x7ff74fceb630>"
      ]
     },
     "execution_count": 24,
     "metadata": {},
     "output_type": "execute_result"
    },
    {
     "data": {
      "image/png": "[encoded data removed]",
      "text/plain": [
       "<Figure size 360x360 with 1 Axes>"
      ]
     },
     "metadata": {
      "needs_background": "light"
     },
     "output_type": "display_data"
    }
   ],
   "source": [
    "print(train.groupby('Gender')['Purchase'].sum())\n",
    "train.groupby('Gender')['Purchase'].sum().plot(kind='bar',figsize=(5,5))"
   ]
  },
  {
   "cell_type": "markdown",
   "metadata": {},
   "source": [
    "Total female purchase is like one third of that of a male."
   ]
  },
  {
   "cell_type": "markdown",
   "metadata": {},
   "source": [
    "#### Age and Purchase"
   ]
  },
  {
   "cell_type": "code",
   "execution_count": 25,
   "metadata": {},
   "outputs": [
    {
     "name": "stdout",
     "output_type": "stream",
     "text": [
      "Age\n",
      "0-17     8933.464640\n",
      "18-25    9169.663606\n",
      "26-35    9252.690633\n",
      "36-45    9331.350695\n",
      "46-50    9208.625697\n",
      "51-55    9534.808031\n",
      "55+      9336.280459\n",
      "Name: Purchase, dtype: float64\n"
     ]
    },
    {
     "data": {
      "text/plain": [
       "<matplotlib.axes._subplots.AxesSubplot at 0x7ff74fc4e9b0>"
      ]
     },
     "execution_count": 25,
     "metadata": {},
     "output_type": "execute_result"
    },
    {
     "data": {
      "image/png": "[encoded data removed]",
      "text/plain": [
       "<Figure size 360x360 with 1 Axes>"
      ]
     },
     "metadata": {
      "needs_background": "light"
     },
     "output_type": "display_data"
    }
   ],
   "source": [
    "print(train.groupby('Age')['Purchase'].mean())\n",
    "train.groupby('Age')['Purchase'].mean().plot(kind='bar',figsize=(5,5))"
   ]
  },
  {
   "cell_type": "markdown",
   "metadata": {},
   "source": [
    "- Average purchase values of all the age groups are more or less the same. They do not differ significantly.\n",
    "- However, age group 0-17 have the least average and 51-55 have the highest average."
   ]
  },
  {
   "cell_type": "code",
   "execution_count": 26,
   "metadata": {},
   "outputs": [
    {
     "name": "stdout",
     "output_type": "stream",
     "text": [
      "Age\n",
      "0-17      134913183\n",
      "18-25     913848675\n",
      "26-35    2031770578\n",
      "36-45    1026569884\n",
      "46-50     420843403\n",
      "51-55     367099644\n",
      "55+       200767375\n",
      "Name: Purchase, dtype: int64\n"
     ]
    },
    {
     "data": {
      "text/plain": [
       "<matplotlib.axes._subplots.AxesSubplot at 0x7ff758684a58>"
      ]
     },
     "execution_count": 26,
     "metadata": {},
     "output_type": "execute_result"
    },
    {
     "data": {
      "image/png": "[encoded data removed]",
      "text/plain": [
       "<Figure size 360x360 with 1 Axes>"
      ]
     },
     "metadata": {
      "needs_background": "light"
     },
     "output_type": "display_data"
    }
   ],
   "source": [
    "print(train.groupby('Age')['Purchase'].sum())\n",
    "train.groupby('Age')['Purchase'].sum().plot(kind='bar',figsize=(5,5))"
   ]
  },
  {
   "cell_type": "markdown",
   "metadata": {},
   "source": [
    "- As said before, in a chronological sequence, with the increase in age group category, total sales experienced increases until the age group 26-35 and then it decreases.\n",
    "- Also, the age group of 26-35 make up for the highest sales. Not only that, there sales is nearly double the sales of the second highest sales of the age group 36-45."
   ]
  },
  {
   "cell_type": "markdown",
   "metadata": {},
   "source": [
    "#### Occupation and Purchase"
   ]
  },
  {
   "cell_type": "code",
   "execution_count": 27,
   "metadata": {},
   "outputs": [
    {
     "name": "stdout",
     "output_type": "stream",
     "text": [
      "Occupation\n",
      "0     9124.428588\n",
      "1     8953.193270\n",
      "2     8952.481683\n",
      "3     9178.593088\n",
      "4     9213.980251\n",
      "5     9333.149298\n",
      "6     9256.535691\n",
      "7     9425.728223\n",
      "8     9532.592497\n",
      "9     8637.743761\n",
      "10    8959.355375\n",
      "11    9213.845848\n",
      "12    9796.640239\n",
      "13    9306.351061\n",
      "14    9500.702772\n",
      "15    9778.891163\n",
      "16    9394.464349\n",
      "17    9821.478236\n",
      "18    9169.655844\n",
      "19    8710.627231\n",
      "20    8836.494905\n",
      "Name: Purchase, dtype: float64\n"
     ]
    },
    {
     "data": {
      "text/plain": [
       "<matplotlib.axes._subplots.AxesSubplot at 0x7ff74fbdb6a0>"
      ]
     },
     "execution_count": 27,
     "metadata": {},
     "output_type": "execute_result"
    },
    {
     "data": {
      "image/png": "[encoded data removed]",
      "text/plain": [
       "<Figure size 1080x360 with 1 Axes>"
      ]
     },
     "metadata": {
      "needs_background": "light"
     },
     "output_type": "display_data"
    }
   ],
   "source": [
    "print(train.groupby('Occupation')['Purchase'].mean())\n",
    "train.groupby('Occupation')['Purchase'].mean().plot(kind='bar',figsize=(15,5))"
   ]
  },
  {
   "cell_type": "markdown",
   "metadata": {},
   "source": [
    "There is no significant difference between the average sales of customers by their occupation levels."
   ]
  },
  {
   "cell_type": "code",
   "execution_count": 28,
   "metadata": {},
   "outputs": [
    {
     "name": "stdout",
     "output_type": "stream",
     "text": [
      "Occupation\n",
      "0     635406958\n",
      "1     424614144\n",
      "2     238028583\n",
      "3     162002168\n",
      "4     666244484\n",
      "5     113649759\n",
      "6     188416784\n",
      "7     557371587\n",
      "8      14737388\n",
      "9      54340046\n",
      "10    115844465\n",
      "11    106751618\n",
      "12    305449446\n",
      "13     71919481\n",
      "14    259454692\n",
      "15    118960211\n",
      "16    238346955\n",
      "17    393281453\n",
      "18     60721461\n",
      "19     73700617\n",
      "20    296570442\n",
      "Name: Purchase, dtype: int64\n"
     ]
    },
    {
     "data": {
      "text/plain": [
       "<matplotlib.axes._subplots.AxesSubplot at 0x7ff74fb016a0>"
      ]
     },
     "execution_count": 28,
     "metadata": {},
     "output_type": "execute_result"
    },
    {
     "data": {
      "image/png": "[encoded data removed]",
      "text/plain": [
       "<Figure size 1080x360 with 1 Axes>"
      ]
     },
     "metadata": {
      "needs_background": "light"
     },
     "output_type": "display_data"
    }
   ],
   "source": [
    "print(train.groupby('Occupation')['Purchase'].sum())\n",
    "train.groupby('Occupation')['Purchase'].sum().plot(kind='bar',figsize=(15,5))"
   ]
  },
  {
   "cell_type": "markdown",
   "metadata": {},
   "source": [
    "- It can be seen that customer with high occupation levels, i.e. whose income must be very high, do not have the highest sales. Perhaps it must be because customers with high occupation levels are very few and therefore, do not represent the highest purchase. (total purchase value = number of customers of occupation level 'l' * respective purchased product)\n",
    "- On the contrary, people with low occuaption levels, i.e. whose income must be low, do have the highest sales (some, not every category). Perhaps this predicament can be explained by the fact that although their income must be very low, but the number of people belonging to those occupation levels are extremely high and therefore account for the highest sales."
   ]
  },
  {
   "cell_type": "markdown",
   "metadata": {},
   "source": [
    "#### City_Category and Purchase"
   ]
  },
  {
   "cell_type": "code",
   "execution_count": 29,
   "metadata": {},
   "outputs": [
    {
     "name": "stdout",
     "output_type": "stream",
     "text": [
      "City_Category\n",
      "A    8911.939216\n",
      "B    9151.300563\n",
      "C    9719.920993\n",
      "Name: Purchase, dtype: float64\n"
     ]
    },
    {
     "data": {
      "text/plain": [
       "<matplotlib.axes._subplots.AxesSubplot at 0x7ff74faa8ef0>"
      ]
     },
     "execution_count": 29,
     "metadata": {},
     "output_type": "execute_result"
    },
    {
     "data": {
      "image/png": "[encoded data removed]",
      "text/plain": [
       "<Figure size 360x360 with 1 Axes>"
      ]
     },
     "metadata": {
      "needs_background": "light"
     },
     "output_type": "display_data"
    }
   ],
   "source": [
    "print(train.groupby('City_Category')['Purchase'].mean())\n",
    "train.groupby('City_Category')['Purchase'].mean().plot(kind='bar',figsize=(5,5))"
   ]
  },
  {
   "cell_type": "code",
   "execution_count": 30,
   "metadata": {},
   "outputs": [
    {
     "name": "stdout",
     "output_type": "stream",
     "text": [
      "City_Category\n",
      "A    1316471661\n",
      "B    2115533605\n",
      "C    1663807476\n",
      "Name: Purchase, dtype: int64\n"
     ]
    },
    {
     "data": {
      "text/plain": [
       "<matplotlib.axes._subplots.AxesSubplot at 0x7ff74fa66ef0>"
      ]
     },
     "execution_count": 30,
     "metadata": {},
     "output_type": "execute_result"
    },
    {
     "data": {
      "image/png": "[encoded data removed]",
      "text/plain": [
       "<Figure size 360x360 with 1 Axes>"
      ]
     },
     "metadata": {
      "needs_background": "light"
     },
     "output_type": "display_data"
    }
   ],
   "source": [
    "print(train.groupby('City_Category')['Purchase'].sum())\n",
    "train.groupby('City_Category')['Purchase'].sum().plot(kind='bar',figsize=(5,5))"
   ]
  },
  {
   "cell_type": "markdown",
   "metadata": {},
   "source": [
    "- The highest purchase is from the City B.\n",
    "- The least purchase is from the City A."
   ]
  },
  {
   "cell_type": "markdown",
   "metadata": {},
   "source": [
    "#### Stay_In_Current_City_Years and Purchase"
   ]
  },
  {
   "cell_type": "code",
   "execution_count": 31,
   "metadata": {},
   "outputs": [
    {
     "name": "stdout",
     "output_type": "stream",
     "text": [
      "Stay_In_Current_City_Years\n",
      "0     9180.075123\n",
      "1     9250.145923\n",
      "2     9320.429810\n",
      "3     9286.904119\n",
      "4+    9275.598872\n",
      "Name: Purchase, dtype: float64\n"
     ]
    },
    {
     "data": {
      "text/plain": [
       "<matplotlib.axes._subplots.AxesSubplot at 0x7ff74f9e43c8>"
      ]
     },
     "execution_count": 31,
     "metadata": {},
     "output_type": "execute_result"
    },
    {
     "data": {
      "image/png": "[encoded data removed]",
      "text/plain": [
       "<Figure size 360x360 with 1 Axes>"
      ]
     },
     "metadata": {
      "needs_background": "light"
     },
     "output_type": "display_data"
    }
   ],
   "source": [
    "print(train.groupby('Stay_In_Current_City_Years')['Purchase'].mean())\n",
    "train.groupby('Stay_In_Current_City_Years')['Purchase'].mean().plot(kind='bar',figsize=(5,5))"
   ]
  },
  {
   "cell_type": "code",
   "execution_count": 32,
   "metadata": {},
   "outputs": [
    {
     "name": "stdout",
     "output_type": "stream",
     "text": [
      "Stay_In_Current_City_Years\n",
      "0      682979229\n",
      "1     1792872533\n",
      "2      949173931\n",
      "3      884902659\n",
      "4+     785884390\n",
      "Name: Purchase, dtype: int64\n"
     ]
    },
    {
     "data": {
      "text/plain": [
       "<matplotlib.axes._subplots.AxesSubplot at 0x7ff74f936518>"
      ]
     },
     "execution_count": 32,
     "metadata": {},
     "output_type": "execute_result"
    },
    {
     "data": {
      "image/png": "[encoded data removed]",
      "text/plain": [
       "<Figure size 360x360 with 1 Axes>"
      ]
     },
     "metadata": {
      "needs_background": "light"
     },
     "output_type": "display_data"
    }
   ],
   "source": [
    "print(train.groupby('Stay_In_Current_City_Years')['Purchase'].sum())\n",
    "train.groupby('Stay_In_Current_City_Years')['Purchase'].sum().plot(kind='bar',figsize=(5,5))"
   ]
  },
  {
   "cell_type": "markdown",
   "metadata": {},
   "source": [
    "- Customers with stay=1 have the highest purchase\n",
    "- Customers with stay=0 have the lowest purchase"
   ]
  },
  {
   "cell_type": "markdown",
   "metadata": {},
   "source": [
    "#### Marital_Status and Purchase"
   ]
  },
  {
   "cell_type": "code",
   "execution_count": 33,
   "metadata": {},
   "outputs": [
    {
     "name": "stdout",
     "output_type": "stream",
     "text": [
      "Marital_Status\n",
      "0    9265.907619\n",
      "1    9261.174574\n",
      "Name: Purchase, dtype: float64\n"
     ]
    },
    {
     "data": {
      "text/plain": [
       "<matplotlib.axes._subplots.AxesSubplot at 0x7ff74f91f438>"
      ]
     },
     "execution_count": 33,
     "metadata": {},
     "output_type": "execute_result"
    },
    {
     "data": {
      "image/png": "[encoded data removed]",
      "text/plain": [
       "<Figure size 360x360 with 1 Axes>"
      ]
     },
     "metadata": {
      "needs_background": "light"
     },
     "output_type": "display_data"
    }
   ],
   "source": [
    "print(train.groupby('Marital_Status')['Purchase'].mean())\n",
    "train.groupby('Marital_Status')['Purchase'].mean().plot(kind='bar',figsize=(5,5))"
   ]
  },
  {
   "cell_type": "code",
   "execution_count": 34,
   "metadata": {},
   "outputs": [
    {
     "name": "stdout",
     "output_type": "stream",
     "text": [
      "Marital_Status\n",
      "0    3008927447\n",
      "1    2086885295\n",
      "Name: Purchase, dtype: int64\n"
     ]
    },
    {
     "data": {
      "text/plain": [
       "<matplotlib.axes._subplots.AxesSubplot at 0x7ff74f871b70>"
      ]
     },
     "execution_count": 34,
     "metadata": {},
     "output_type": "execute_result"
    },
    {
     "data": {
      "image/png": "[encoded data removed]",
      "text/plain": [
       "<Figure size 360x360 with 1 Axes>"
      ]
     },
     "metadata": {
      "needs_background": "light"
     },
     "output_type": "display_data"
    }
   ],
   "source": [
    "print(train.groupby('Marital_Status')['Purchase'].sum())\n",
    "train.groupby('Marital_Status')['Purchase'].sum().plot(kind='bar',figsize=(5,5))"
   ]
  },
  {
   "cell_type": "markdown",
   "metadata": {},
   "source": [
    "- Non married represent the highest purchase"
   ]
  },
  {
   "cell_type": "markdown",
   "metadata": {},
   "source": [
    "#### Product_Category_1 and Purchase"
   ]
  },
  {
   "cell_type": "code",
   "execution_count": 35,
   "metadata": {},
   "outputs": [
    {
     "name": "stdout",
     "output_type": "stream",
     "text": [
      "Product_Category_1\n",
      "1     13606.218596\n",
      "2     11251.935384\n",
      "3     10096.705734\n",
      "4      2329.659491\n",
      "5      6240.088178\n",
      "6     15838.478550\n",
      "7     16365.689600\n",
      "8      7498.958078\n",
      "9     15537.375610\n",
      "10    19675.570927\n",
      "11     4685.268456\n",
      "12     1350.859894\n",
      "13      722.400613\n",
      "14    13141.625739\n",
      "15    14780.451828\n",
      "16    14766.037037\n",
      "17    10170.759516\n",
      "18     2972.864320\n",
      "19       37.041797\n",
      "20      370.481176\n",
      "Name: Purchase, dtype: float64\n"
     ]
    },
    {
     "data": {
      "text/plain": [
       "<matplotlib.axes._subplots.AxesSubplot at 0x7ff74f85cb70>"
      ]
     },
     "execution_count": 35,
     "metadata": {},
     "output_type": "execute_result"
    },
    {
     "data": {
      "image/png": "[encoded data removed]",
      "text/plain": [
       "<Figure size 1080x360 with 1 Axes>"
      ]
     },
     "metadata": {
      "needs_background": "light"
     },
     "output_type": "display_data"
    }
   ],
   "source": [
    "print(train.groupby('Product_Category_1')['Purchase'].mean())\n",
    "train.groupby('Product_Category_1')['Purchase'].mean().plot(kind='bar',figsize=(15,5))"
   ]
  },
  {
   "cell_type": "code",
   "execution_count": 36,
   "metadata": {},
   "outputs": [
    {
     "name": "stdout",
     "output_type": "stream",
     "text": [
      "Product_Category_1\n",
      "1     1910013754\n",
      "2      268516186\n",
      "3      204084713\n",
      "4       27380488\n",
      "5      941835229\n",
      "6      324150302\n",
      "7       60896731\n",
      "8      854318799\n",
      "9        6370324\n",
      "10     100837301\n",
      "11     113791115\n",
      "12       5331844\n",
      "13       4008601\n",
      "14      20014696\n",
      "15      92969042\n",
      "16     145120612\n",
      "17       5878699\n",
      "18       9290201\n",
      "19         59378\n",
      "20        944727\n",
      "Name: Purchase, dtype: int64\n"
     ]
    },
    {
     "data": {
      "text/plain": [
       "<matplotlib.axes._subplots.AxesSubplot at 0x7ff74f77da20>"
      ]
     },
     "execution_count": 36,
     "metadata": {},
     "output_type": "execute_result"
    },
    {
     "data": {
      "image/png": "[encoded data removed]",
      "text/plain": [
       "<Figure size 1080x360 with 1 Axes>"
      ]
     },
     "metadata": {
      "needs_background": "light"
     },
     "output_type": "display_data"
    }
   ],
   "source": [
    "print(train.groupby('Product_Category_1')['Purchase'].sum())\n",
    "train.groupby('Product_Category_1')['Purchase'].sum().plot(kind='bar',figsize=(15,5))"
   ]
  },
  {
   "cell_type": "markdown",
   "metadata": {},
   "source": [
    "#### Product_Category_2 and Purchase"
   ]
  },
  {
   "cell_type": "code",
   "execution_count": 37,
   "metadata": {},
   "outputs": [
    {
     "name": "stdout",
     "output_type": "stream",
     "text": [
      "Product_Category_2\n",
      "0.0      7518.695389\n",
      "2.0     13619.356401\n",
      "3.0     11235.359570\n",
      "4.0     10215.192001\n",
      "5.0      9027.821574\n",
      "6.0     11503.551379\n",
      "7.0      6884.683706\n",
      "8.0     10273.259518\n",
      "9.0      7277.006851\n",
      "10.0    15648.729543\n",
      "11.0     8940.580515\n",
      "12.0     6975.472504\n",
      "13.0     9683.352388\n",
      "14.0     7105.264916\n",
      "15.0    10357.077691\n",
      "16.0    10295.681933\n",
      "17.0     9421.576577\n",
      "18.0     9352.440433\n",
      "Name: Purchase, dtype: float64\n"
     ]
    },
    {
     "data": {
      "text/plain": [
       "<matplotlib.axes._subplots.AxesSubplot at 0x7ff74f7567f0>"
      ]
     },
     "execution_count": 37,
     "metadata": {},
     "output_type": "execute_result"
    },
    {
     "data": {
      "image/png": "[encoded data removed]",
      "text/plain": [
       "<Figure size 1080x360 with 1 Axes>"
      ]
     },
     "metadata": {
      "needs_background": "light"
     },
     "output_type": "display_data"
    }
   ],
   "source": [
    "print(train.groupby('Product_Category_2')['Purchase'].mean())\n",
    "train.groupby('Product_Category_2')['Purchase'].mean().plot(kind='bar',figsize=(15,5))"
   ]
  },
  {
   "cell_type": "code",
   "execution_count": 38,
   "metadata": {},
   "outputs": [
    {
     "name": "stdout",
     "output_type": "stream",
     "text": [
      "Product_Category_2\n",
      "0.0     1305531230\n",
      "2.0      670303864\n",
      "3.0       32402777\n",
      "4.0      262295485\n",
      "5.0      236844899\n",
      "6.0      189417477\n",
      "7.0        4309812\n",
      "8.0      658392656\n",
      "9.0       41428000\n",
      "10.0      47619084\n",
      "11.0     126366165\n",
      "12.0      38560412\n",
      "13.0     101975384\n",
      "14.0     391556939\n",
      "15.0     392067176\n",
      "16.0     445339722\n",
      "17.0     125495400\n",
      "18.0      25906260\n",
      "Name: Purchase, dtype: int64\n"
     ]
    },
    {
     "data": {
      "text/plain": [
       "<matplotlib.axes._subplots.AxesSubplot at 0x7ff74f6b14e0>"
      ]
     },
     "execution_count": 38,
     "metadata": {},
     "output_type": "execute_result"
    },
    {
     "data": {
      "image/png": "[encoded data removed]",
      "text/plain": [
       "<Figure size 1080x360 with 1 Axes>"
      ]
     },
     "metadata": {
      "needs_background": "light"
     },
     "output_type": "display_data"
    }
   ],
   "source": [
    "print(train.groupby('Product_Category_2')['Purchase'].sum())\n",
    "train.groupby('Product_Category_2')['Purchase'].sum().plot(kind='bar',figsize=(15,5))"
   ]
  },
  {
   "cell_type": "markdown",
   "metadata": {},
   "source": [
    "#### Product_Category_3 and Purchase"
   ]
  },
  {
   "cell_type": "code",
   "execution_count": 39,
   "metadata": {},
   "outputs": [
    {
     "name": "stdout",
     "output_type": "stream",
     "text": [
      "Product_Category_3\n",
      "0.0      8221.836943\n",
      "3.0     13939.696574\n",
      "4.0      9794.386667\n",
      "5.0     12117.786889\n",
      "6.0     13194.311043\n",
      "8.0     13024.918882\n",
      "9.0     10431.697210\n",
      "10.0    13505.813441\n",
      "11.0    12091.437673\n",
      "12.0     8715.512762\n",
      "13.0    13185.118703\n",
      "14.0    10052.594530\n",
      "15.0    12339.369900\n",
      "16.0    11981.890642\n",
      "17.0    11769.943001\n",
      "18.0    10993.980773\n",
      "Name: Purchase, dtype: float64\n"
     ]
    },
    {
     "data": {
      "text/plain": [
       "<matplotlib.axes._subplots.AxesSubplot at 0x7ff74f871f28>"
      ]
     },
     "execution_count": 39,
     "metadata": {},
     "output_type": "execute_result"
    },
    {
     "data": {
      "image/png": "[encoded data removed]",
      "text/plain": [
       "<Figure size 1080x360 with 1 Axes>"
      ]
     },
     "metadata": {
      "needs_background": "light"
     },
     "output_type": "display_data"
    }
   ],
   "source": [
    "print(train.groupby('Product_Category_3')['Purchase'].mean())\n",
    "train.groupby('Product_Category_3')['Purchase'].mean().plot(kind='bar',figsize=(15,5))"
   ]
  },
  {
   "cell_type": "code",
   "execution_count": 40,
   "metadata": {},
   "outputs": [
    {
     "name": "stdout",
     "output_type": "stream",
     "text": [
      "Product_Category_3\n",
      "0.0     3150994343\n",
      "3.0        8545034\n",
      "4.0       18364475\n",
      "5.0      201858094\n",
      "6.0       64520181\n",
      "8.0      163619031\n",
      "9.0      120788622\n",
      "10.0      23311034\n",
      "11.0      21825045\n",
      "12.0      80583631\n",
      "13.0      71977563\n",
      "14.0     185249212\n",
      "15.0     345662769\n",
      "16.0     391040983\n",
      "17.0     196581588\n",
      "18.0      50891137\n",
      "Name: Purchase, dtype: int64\n"
     ]
    },
    {
     "data": {
      "text/plain": [
       "<matplotlib.axes._subplots.AxesSubplot at 0x7ff74f4ff9b0>"
      ]
     },
     "execution_count": 40,
     "metadata": {},
     "output_type": "execute_result"
    },
    {
     "data": {
      "image/png": "[encoded data removed]",
      "text/plain": [
       "<Figure size 1080x360 with 1 Axes>"
      ]
     },
     "metadata": {
      "needs_background": "light"
     },
     "output_type": "display_data"
    }
   ],
   "source": [
    "print(train.groupby('Product_Category_3')['Purchase'].sum())\n",
    "train.groupby('Product_Category_3')['Purchase'].sum().plot(kind='bar',figsize=(15,5))"
   ]
  },
  {
   "cell_type": "code",
   "execution_count": 41,
   "metadata": {},
   "outputs": [],
   "source": [
    "#train.groupby('Age')['Gender'].value_counts().unstack()"
   ]
  },
  {
   "cell_type": "code",
   "execution_count": 42,
   "metadata": {},
   "outputs": [],
   "source": [
    "#train.groupby('Age')['Gender'].value_counts().plot(kind='bar')"
   ]
  },
  {
   "cell_type": "code",
   "execution_count": 43,
   "metadata": {},
   "outputs": [],
   "source": [
    "#train.groupby('Gender')['Age'].value_counts().plot(kind='bar')"
   ]
  },
  {
   "cell_type": "code",
   "execution_count": 44,
   "metadata": {},
   "outputs": [],
   "source": [
    "#train.groupby('Gender')['Occupation'].value_counts().unstack()"
   ]
  },
  {
   "cell_type": "code",
   "execution_count": 45,
   "metadata": {},
   "outputs": [],
   "source": [
    "#plt.figure(figsize=(10,5))\n",
    "#train.groupby('Occupation')['Gender'].value_counts().plot(kind='bar')"
   ]
  },
  {
   "cell_type": "code",
   "execution_count": 46,
   "metadata": {},
   "outputs": [],
   "source": [
    "#plt.figure(figsize=(10,5))\n",
    "#train.groupby('Gender')['Occupation'].value_counts().plot(kind='bar')"
   ]
  },
  {
   "cell_type": "code",
   "execution_count": 47,
   "metadata": {},
   "outputs": [],
   "source": [
    "#train.groupby('Gender')['City_Category'].value_counts().unstack()"
   ]
  },
  {
   "cell_type": "code",
   "execution_count": 48,
   "metadata": {},
   "outputs": [],
   "source": [
    "#train.groupby('City_Category')['Gender'].value_counts().plot(kind='bar')"
   ]
  },
  {
   "cell_type": "code",
   "execution_count": 49,
   "metadata": {},
   "outputs": [],
   "source": [
    "#train.groupby('Gender')['City_Category'].value_counts().plot(kind='bar')"
   ]
  },
  {
   "cell_type": "code",
   "execution_count": 50,
   "metadata": {},
   "outputs": [],
   "source": [
    "#train.groupby('Gender')['Marital_Status'].value_counts().unstack()"
   ]
  },
  {
   "cell_type": "code",
   "execution_count": 51,
   "metadata": {},
   "outputs": [],
   "source": [
    "#train.groupby('Marital_Status')['Gender'].value_counts().plot(kind='bar')"
   ]
  },
  {
   "cell_type": "code",
   "execution_count": 52,
   "metadata": {},
   "outputs": [],
   "source": [
    "#train.groupby('Gender')['Marital_Status'].value_counts().plot(kind='bar')"
   ]
  },
  {
   "cell_type": "code",
   "execution_count": 53,
   "metadata": {},
   "outputs": [],
   "source": [
    "#train.groupby('Age')['Occupation'].value_counts().unstack()"
   ]
  },
  {
   "cell_type": "code",
   "execution_count": 54,
   "metadata": {},
   "outputs": [],
   "source": [
    "#plt.figure(figsize=(20,35))\n",
    "#train.groupby('Age')['Occupation'].value_counts().plot(kind='barh')"
   ]
  },
  {
   "cell_type": "code",
   "execution_count": 55,
   "metadata": {},
   "outputs": [],
   "source": [
    "#plt.figure(figsize=(20,35))\n",
    "#train.groupby('Occupation')['Age'].value_counts().plot(kind='barh')"
   ]
  },
  {
   "cell_type": "code",
   "execution_count": 56,
   "metadata": {},
   "outputs": [],
   "source": [
    "#train.groupby('Age')['City_Category'].value_counts().unstack()"
   ]
  },
  {
   "cell_type": "code",
   "execution_count": 57,
   "metadata": {},
   "outputs": [],
   "source": [
    "#train.groupby('Age')['City_Category'].value_counts().plot(kind='bar')"
   ]
  },
  {
   "cell_type": "code",
   "execution_count": 58,
   "metadata": {},
   "outputs": [],
   "source": [
    "#train.groupby('City_Category')['Age'].value_counts().plot(kind='bar')"
   ]
  },
  {
   "cell_type": "code",
   "execution_count": 59,
   "metadata": {},
   "outputs": [],
   "source": [
    "#train.groupby('Age')['Marital_Status'].value_counts().unstack()"
   ]
  },
  {
   "cell_type": "code",
   "execution_count": 60,
   "metadata": {},
   "outputs": [],
   "source": [
    "#train.groupby('Age')['Marital_Status'].value_counts().plot(kind='bar')"
   ]
  },
  {
   "cell_type": "code",
   "execution_count": 61,
   "metadata": {},
   "outputs": [],
   "source": [
    "#train.groupby('Marital_Status')['Age'].value_counts().plot(kind='bar')"
   ]
  },
  {
   "cell_type": "code",
   "execution_count": 62,
   "metadata": {},
   "outputs": [],
   "source": [
    "#train.groupby('Marital_Status')['Occupation'].value_counts().unstack()"
   ]
  },
  {
   "cell_type": "code",
   "execution_count": 63,
   "metadata": {},
   "outputs": [],
   "source": [
    "#plt.figure(figsize=(10,5))\n",
    "#train.groupby('Marital_Status')['Occupation'].value_counts().plot(kind='bar')"
   ]
  },
  {
   "cell_type": "code",
   "execution_count": 64,
   "metadata": {},
   "outputs": [],
   "source": [
    "#plt.figure(figsize=(10,5))\n",
    "#train.groupby('Occupation')['Marital_Status'].value_counts().plot(kind='bar')"
   ]
  },
  {
   "cell_type": "code",
   "execution_count": 65,
   "metadata": {},
   "outputs": [],
   "source": [
    "#train.groupby('Marital_Status')['City_Category'].value_counts().unstack()"
   ]
  },
  {
   "cell_type": "code",
   "execution_count": 66,
   "metadata": {},
   "outputs": [],
   "source": [
    "#train.groupby('City_Category')['Marital_Status'].value_counts().plot(kind='bar')"
   ]
  },
  {
   "cell_type": "code",
   "execution_count": 67,
   "metadata": {},
   "outputs": [],
   "source": [
    "#train.groupby('Marital_Status')['City_Category'].value_counts().plot(kind='bar')"
   ]
  },
  {
   "cell_type": "code",
   "execution_count": 68,
   "metadata": {},
   "outputs": [],
   "source": [
    "#train.groupby('Stay_In_Current_City_Years')['Gender'].value_counts().unstack()"
   ]
  },
  {
   "cell_type": "code",
   "execution_count": 69,
   "metadata": {},
   "outputs": [],
   "source": [
    "#train.groupby('Stay_In_Current_City_Years')['Gender'].value_counts().plot(kind='bar')"
   ]
  },
  {
   "cell_type": "code",
   "execution_count": 70,
   "metadata": {},
   "outputs": [],
   "source": [
    "#train.groupby('Gender')['Stay_In_Current_City_Years'].value_counts().plot(kind='bar')"
   ]
  },
  {
   "cell_type": "code",
   "execution_count": 71,
   "metadata": {},
   "outputs": [],
   "source": [
    "#train.groupby('Stay_In_Current_City_Years')['Age'].value_counts().unstack()"
   ]
  },
  {
   "cell_type": "code",
   "execution_count": 72,
   "metadata": {},
   "outputs": [],
   "source": [
    "#plt.figure(figsize=(10,10))\n",
    "#train.groupby('Stay_In_Current_City_Years')['Age'].value_counts().plot(kind='barh')"
   ]
  },
  {
   "cell_type": "code",
   "execution_count": 73,
   "metadata": {},
   "outputs": [],
   "source": [
    "#plt.figure(figsize=(10,10))\n",
    "#train.groupby('Age')['Stay_In_Current_City_Years'].value_counts().plot(kind='barh')"
   ]
  },
  {
   "cell_type": "code",
   "execution_count": 74,
   "metadata": {},
   "outputs": [],
   "source": [
    "#train.groupby('Stay_In_Current_City_Years')['Occupation'].value_counts().unstack()"
   ]
  },
  {
   "cell_type": "code",
   "execution_count": 75,
   "metadata": {},
   "outputs": [],
   "source": [
    "#plt.figure(figsize=(20,35))\n",
    "#train.groupby('Stay_In_Current_City_Years')['Occupation'].value_counts().plot(kind='barh')"
   ]
  },
  {
   "cell_type": "code",
   "execution_count": 76,
   "metadata": {},
   "outputs": [],
   "source": [
    "#plt.figure(figsize=(20,35))\n",
    "#train.groupby('Occupation')['Stay_In_Current_City_Years'].value_counts().plot(kind='barh')"
   ]
  },
  {
   "cell_type": "code",
   "execution_count": 77,
   "metadata": {},
   "outputs": [],
   "source": [
    "#train.groupby('City_Category')['Stay_In_Current_City_Years'].value_counts().unstack()"
   ]
  },
  {
   "cell_type": "code",
   "execution_count": 78,
   "metadata": {},
   "outputs": [],
   "source": [
    "#train.groupby('City_Category')['Stay_In_Current_City_Years'].value_counts().plot(kind='bar')"
   ]
  },
  {
   "cell_type": "code",
   "execution_count": 79,
   "metadata": {},
   "outputs": [],
   "source": [
    "#train.groupby('Stay_In_Current_City_Years')['City_Category'].value_counts().plot(kind='bar')"
   ]
  },
  {
   "cell_type": "code",
   "execution_count": 80,
   "metadata": {},
   "outputs": [],
   "source": [
    "#train.groupby('Marital_Status')['Stay_In_Current_City_Years'].value_counts().unstack()"
   ]
  },
  {
   "cell_type": "code",
   "execution_count": 81,
   "metadata": {},
   "outputs": [],
   "source": [
    "#train.groupby('Marital_Status')['Stay_In_Current_City_Years'].value_counts().plot(kind='bar')"
   ]
  },
  {
   "cell_type": "code",
   "execution_count": 82,
   "metadata": {},
   "outputs": [],
   "source": [
    "#train.groupby('Stay_In_Current_City_Years')['Marital_Status'].value_counts().plot(kind='bar')"
   ]
  },
  {
   "cell_type": "markdown",
   "metadata": {},
   "source": [
    "### Feature Engineering\n",
    "\n",
    "- Map Female to 0 and Male to 1 in Gender variable\n",
    "- Replace 4+ with 4 in Stay_In_Current_City_Years variable\n",
    "- Create dummy variables or Age and City_category variables"
   ]
  },
  {
   "cell_type": "code",
   "execution_count": 83,
   "metadata": {},
   "outputs": [
    {
     "data": {
      "text/plain": [
       "1    414259\n",
       "0    135809\n",
       "Name: Gender, dtype: int64"
      ]
     },
     "execution_count": 83,
     "metadata": {},
     "output_type": "execute_result"
    }
   ],
   "source": [
    "genderMap={'F':0,'M':1}\n",
    "train['Gender']=train['Gender'].map(genderMap)\n",
    "test['Gender']=test['Gender'].map(genderMap)\n",
    "train['Gender'].value_counts()"
   ]
  },
  {
   "cell_type": "code",
   "execution_count": 84,
   "metadata": {},
   "outputs": [
    {
     "name": "stdout",
     "output_type": "stream",
     "text": [
      "[2 4 3 1 0]\n"
     ]
    }
   ],
   "source": [
    "def correctFunc(word):\n",
    "    if word == '4+':\n",
    "        word=4\n",
    "    return int(word)\n",
    "train['Stay_In_Current_City_Years']=train['Stay_In_Current_City_Years'].apply(correctFunc)\n",
    "test['Stay_In_Current_City_Years']=test['Stay_In_Current_City_Years'].apply(correctFunc)\n",
    "print(train['Stay_In_Current_City_Years'].unique())"
   ]
  },
  {
   "cell_type": "code",
   "execution_count": 85,
   "metadata": {},
   "outputs": [],
   "source": [
    "dummies=['Age','City_Category']\n",
    "for d in dummies:\n",
    "    ohe = pd.get_dummies(train[d])\n",
    "    train = train.drop(d,axis = 1)\n",
    "    train = train.join(ohe)\n",
    "    ohe1 = pd.get_dummies(test[d])\n",
    "    test = test.drop(d,axis = 1)\n",
    "    test = test.join(ohe1)"
   ]
  },
  {
   "cell_type": "code",
   "execution_count": 86,
   "metadata": {},
   "outputs": [
    {
     "data": {
      "text/html": [
       "<div>\n",
       "<style scoped>\n",
       "    .dataframe tbody tr th:only-of-type {\n",
       "        vertical-align: middle;\n",
       "    }\n",
       "\n",
       "    .dataframe tbody tr th {\n",
       "        vertical-align: top;\n",
       "    }\n",
       "\n",
       "    .dataframe thead th {\n",
       "        text-align: right;\n",
       "    }\n",
       "</style>\n",
       "<table border=\"1\" class=\"dataframe\">\n",
       "  <thead>\n",
       "    <tr style=\"text-align: right;\">\n",
       "      <th></th>\n",
       "      <th>User_ID</th>\n",
       "      <th>Product_ID</th>\n",
       "      <th>Gender</th>\n",
       "      <th>Occupation</th>\n",
       "      <th>Stay_In_Current_City_Years</th>\n",
       "      <th>Marital_Status</th>\n",
       "      <th>Product_Category_1</th>\n",
       "      <th>Product_Category_2</th>\n",
       "      <th>Product_Category_3</th>\n",
       "      <th>Purchase</th>\n",
       "      <th>0-17</th>\n",
       "      <th>18-25</th>\n",
       "      <th>26-35</th>\n",
       "      <th>36-45</th>\n",
       "      <th>46-50</th>\n",
       "      <th>51-55</th>\n",
       "      <th>55+</th>\n",
       "      <th>A</th>\n",
       "      <th>B</th>\n",
       "      <th>C</th>\n",
       "    </tr>\n",
       "  </thead>\n",
       "  <tbody>\n",
       "    <tr>\n",
       "      <th>0</th>\n",
       "      <td>1000001</td>\n",
       "      <td>P00069042</td>\n",
       "      <td>0</td>\n",
       "      <td>10</td>\n",
       "      <td>2</td>\n",
       "      <td>0</td>\n",
       "      <td>3</td>\n",
       "      <td>0.0</td>\n",
       "      <td>0.0</td>\n",
       "      <td>8370</td>\n",
       "      <td>1</td>\n",
       "      <td>0</td>\n",
       "      <td>0</td>\n",
       "      <td>0</td>\n",
       "      <td>0</td>\n",
       "      <td>0</td>\n",
       "      <td>0</td>\n",
       "      <td>1</td>\n",
       "      <td>0</td>\n",
       "      <td>0</td>\n",
       "    </tr>\n",
       "    <tr>\n",
       "      <th>1</th>\n",
       "      <td>1000001</td>\n",
       "      <td>P00248942</td>\n",
       "      <td>0</td>\n",
       "      <td>10</td>\n",
       "      <td>2</td>\n",
       "      <td>0</td>\n",
       "      <td>1</td>\n",
       "      <td>6.0</td>\n",
       "      <td>14.0</td>\n",
       "      <td>15200</td>\n",
       "      <td>1</td>\n",
       "      <td>0</td>\n",
       "      <td>0</td>\n",
       "      <td>0</td>\n",
       "      <td>0</td>\n",
       "      <td>0</td>\n",
       "      <td>0</td>\n",
       "      <td>1</td>\n",
       "      <td>0</td>\n",
       "      <td>0</td>\n",
       "    </tr>\n",
       "    <tr>\n",
       "      <th>2</th>\n",
       "      <td>1000001</td>\n",
       "      <td>P00087842</td>\n",
       "      <td>0</td>\n",
       "      <td>10</td>\n",
       "      <td>2</td>\n",
       "      <td>0</td>\n",
       "      <td>12</td>\n",
       "      <td>0.0</td>\n",
       "      <td>0.0</td>\n",
       "      <td>1422</td>\n",
       "      <td>1</td>\n",
       "      <td>0</td>\n",
       "      <td>0</td>\n",
       "      <td>0</td>\n",
       "      <td>0</td>\n",
       "      <td>0</td>\n",
       "      <td>0</td>\n",
       "      <td>1</td>\n",
       "      <td>0</td>\n",
       "      <td>0</td>\n",
       "    </tr>\n",
       "    <tr>\n",
       "      <th>3</th>\n",
       "      <td>1000001</td>\n",
       "      <td>P00085442</td>\n",
       "      <td>0</td>\n",
       "      <td>10</td>\n",
       "      <td>2</td>\n",
       "      <td>0</td>\n",
       "      <td>12</td>\n",
       "      <td>14.0</td>\n",
       "      <td>0.0</td>\n",
       "      <td>1057</td>\n",
       "      <td>1</td>\n",
       "      <td>0</td>\n",
       "      <td>0</td>\n",
       "      <td>0</td>\n",
       "      <td>0</td>\n",
       "      <td>0</td>\n",
       "      <td>0</td>\n",
       "      <td>1</td>\n",
       "      <td>0</td>\n",
       "      <td>0</td>\n",
       "    </tr>\n",
       "    <tr>\n",
       "      <th>4</th>\n",
       "      <td>1000002</td>\n",
       "      <td>P00285442</td>\n",
       "      <td>1</td>\n",
       "      <td>16</td>\n",
       "      <td>4</td>\n",
       "      <td>0</td>\n",
       "      <td>8</td>\n",
       "      <td>0.0</td>\n",
       "      <td>0.0</td>\n",
       "      <td>7969</td>\n",
       "      <td>0</td>\n",
       "      <td>0</td>\n",
       "      <td>0</td>\n",
       "      <td>0</td>\n",
       "      <td>0</td>\n",
       "      <td>0</td>\n",
       "      <td>1</td>\n",
       "      <td>0</td>\n",
       "      <td>0</td>\n",
       "      <td>1</td>\n",
       "    </tr>\n",
       "  </tbody>\n",
       "</table>\n",
       "</div>"
      ],
      "text/plain": [
       "   User_ID Product_ID  Gender  Occupation  Stay_In_Current_City_Years  \\\n",
       "0  1000001  P00069042       0          10                           2   \n",
       "1  1000001  P00248942       0          10                           2   \n",
       "2  1000001  P00087842       0          10                           2   \n",
       "3  1000001  P00085442       0          10                           2   \n",
       "4  1000002  P00285442       1          16                           4   \n",
       "\n",
       "   Marital_Status  Product_Category_1  Product_Category_2  Product_Category_3  \\\n",
       "0               0                   3                 0.0                 0.0   \n",
       "1               0                   1                 6.0                14.0   \n",
       "2               0                  12                 0.0                 0.0   \n",
       "3               0                  12                14.0                 0.0   \n",
       "4               0                   8                 0.0                 0.0   \n",
       "\n",
       "   Purchase  0-17  18-25  26-35  36-45  46-50  51-55  55+  A  B  C  \n",
       "0      8370     1      0      0      0      0      0    0  1  0  0  \n",
       "1     15200     1      0      0      0      0      0    0  1  0  0  \n",
       "2      1422     1      0      0      0      0      0    0  1  0  0  \n",
       "3      1057     1      0      0      0      0      0    0  1  0  0  \n",
       "4      7969     0      0      0      0      0      0    1  0  0  1  "
      ]
     },
     "execution_count": 86,
     "metadata": {},
     "output_type": "execute_result"
    }
   ],
   "source": [
    "train.head()"
   ]
  },
  {
   "cell_type": "code",
   "execution_count": 87,
   "metadata": {},
   "outputs": [
    {
     "data": {
      "text/html": [
       "<div>\n",
       "<style scoped>\n",
       "    .dataframe tbody tr th:only-of-type {\n",
       "        vertical-align: middle;\n",
       "    }\n",
       "\n",
       "    .dataframe tbody tr th {\n",
       "        vertical-align: top;\n",
       "    }\n",
       "\n",
       "    .dataframe thead th {\n",
       "        text-align: right;\n",
       "    }\n",
       "</style>\n",
       "<table border=\"1\" class=\"dataframe\">\n",
       "  <thead>\n",
       "    <tr style=\"text-align: right;\">\n",
       "      <th></th>\n",
       "      <th>User_ID</th>\n",
       "      <th>Product_ID</th>\n",
       "      <th>Gender</th>\n",
       "      <th>Occupation</th>\n",
       "      <th>Stay_In_Current_City_Years</th>\n",
       "      <th>Marital_Status</th>\n",
       "      <th>Product_Category_1</th>\n",
       "      <th>Product_Category_2</th>\n",
       "      <th>Product_Category_3</th>\n",
       "      <th>0-17</th>\n",
       "      <th>18-25</th>\n",
       "      <th>26-35</th>\n",
       "      <th>36-45</th>\n",
       "      <th>46-50</th>\n",
       "      <th>51-55</th>\n",
       "      <th>55+</th>\n",
       "      <th>A</th>\n",
       "      <th>B</th>\n",
       "      <th>C</th>\n",
       "    </tr>\n",
       "  </thead>\n",
       "  <tbody>\n",
       "    <tr>\n",
       "      <th>0</th>\n",
       "      <td>1000004</td>\n",
       "      <td>P00128942</td>\n",
       "      <td>1</td>\n",
       "      <td>7</td>\n",
       "      <td>2</td>\n",
       "      <td>1</td>\n",
       "      <td>1</td>\n",
       "      <td>11.0</td>\n",
       "      <td>0.0</td>\n",
       "      <td>0</td>\n",
       "      <td>0</td>\n",
       "      <td>0</td>\n",
       "      <td>0</td>\n",
       "      <td>1</td>\n",
       "      <td>0</td>\n",
       "      <td>0</td>\n",
       "      <td>0</td>\n",
       "      <td>1</td>\n",
       "      <td>0</td>\n",
       "    </tr>\n",
       "    <tr>\n",
       "      <th>1</th>\n",
       "      <td>1000009</td>\n",
       "      <td>P00113442</td>\n",
       "      <td>1</td>\n",
       "      <td>17</td>\n",
       "      <td>0</td>\n",
       "      <td>0</td>\n",
       "      <td>3</td>\n",
       "      <td>5.0</td>\n",
       "      <td>0.0</td>\n",
       "      <td>0</td>\n",
       "      <td>0</td>\n",
       "      <td>1</td>\n",
       "      <td>0</td>\n",
       "      <td>0</td>\n",
       "      <td>0</td>\n",
       "      <td>0</td>\n",
       "      <td>0</td>\n",
       "      <td>0</td>\n",
       "      <td>1</td>\n",
       "    </tr>\n",
       "    <tr>\n",
       "      <th>2</th>\n",
       "      <td>1000010</td>\n",
       "      <td>P00288442</td>\n",
       "      <td>0</td>\n",
       "      <td>1</td>\n",
       "      <td>4</td>\n",
       "      <td>1</td>\n",
       "      <td>5</td>\n",
       "      <td>14.0</td>\n",
       "      <td>0.0</td>\n",
       "      <td>0</td>\n",
       "      <td>0</td>\n",
       "      <td>0</td>\n",
       "      <td>1</td>\n",
       "      <td>0</td>\n",
       "      <td>0</td>\n",
       "      <td>0</td>\n",
       "      <td>0</td>\n",
       "      <td>1</td>\n",
       "      <td>0</td>\n",
       "    </tr>\n",
       "    <tr>\n",
       "      <th>3</th>\n",
       "      <td>1000010</td>\n",
       "      <td>P00145342</td>\n",
       "      <td>0</td>\n",
       "      <td>1</td>\n",
       "      <td>4</td>\n",
       "      <td>1</td>\n",
       "      <td>4</td>\n",
       "      <td>9.0</td>\n",
       "      <td>0.0</td>\n",
       "      <td>0</td>\n",
       "      <td>0</td>\n",
       "      <td>0</td>\n",
       "      <td>1</td>\n",
       "      <td>0</td>\n",
       "      <td>0</td>\n",
       "      <td>0</td>\n",
       "      <td>0</td>\n",
       "      <td>1</td>\n",
       "      <td>0</td>\n",
       "    </tr>\n",
       "    <tr>\n",
       "      <th>4</th>\n",
       "      <td>1000011</td>\n",
       "      <td>P00053842</td>\n",
       "      <td>0</td>\n",
       "      <td>1</td>\n",
       "      <td>1</td>\n",
       "      <td>0</td>\n",
       "      <td>4</td>\n",
       "      <td>5.0</td>\n",
       "      <td>12.0</td>\n",
       "      <td>0</td>\n",
       "      <td>0</td>\n",
       "      <td>1</td>\n",
       "      <td>0</td>\n",
       "      <td>0</td>\n",
       "      <td>0</td>\n",
       "      <td>0</td>\n",
       "      <td>0</td>\n",
       "      <td>0</td>\n",
       "      <td>1</td>\n",
       "    </tr>\n",
       "  </tbody>\n",
       "</table>\n",
       "</div>"
      ],
      "text/plain": [
       "   User_ID Product_ID  Gender  Occupation  Stay_In_Current_City_Years  \\\n",
       "0  1000004  P00128942       1           7                           2   \n",
       "1  1000009  P00113442       1          17                           0   \n",
       "2  1000010  P00288442       0           1                           4   \n",
       "3  1000010  P00145342       0           1                           4   \n",
       "4  1000011  P00053842       0           1                           1   \n",
       "\n",
       "   Marital_Status  Product_Category_1  Product_Category_2  Product_Category_3  \\\n",
       "0               1                   1                11.0                 0.0   \n",
       "1               0                   3                 5.0                 0.0   \n",
       "2               1                   5                14.0                 0.0   \n",
       "3               1                   4                 9.0                 0.0   \n",
       "4               0                   4                 5.0                12.0   \n",
       "\n",
       "   0-17  18-25  26-35  36-45  46-50  51-55  55+  A  B  C  \n",
       "0     0      0      0      0      1      0    0  0  1  0  \n",
       "1     0      0      1      0      0      0    0  0  0  1  \n",
       "2     0      0      0      1      0      0    0  0  1  0  \n",
       "3     0      0      0      1      0      0    0  0  1  0  \n",
       "4     0      0      1      0      0      0    0  0  0  1  "
      ]
     },
     "execution_count": 87,
     "metadata": {},
     "output_type": "execute_result"
    }
   ],
   "source": [
    "test.head()"
   ]
  },
  {
   "cell_type": "code",
   "execution_count": 88,
   "metadata": {},
   "outputs": [
    {
     "data": {
      "text/plain": [
       "(550068, 20)"
      ]
     },
     "execution_count": 88,
     "metadata": {},
     "output_type": "execute_result"
    }
   ],
   "source": [
    "train.shape"
   ]
  },
  {
   "cell_type": "code",
   "execution_count": 89,
   "metadata": {},
   "outputs": [
    {
     "data": {
      "text/plain": [
       "(233599, 19)"
      ]
     },
     "execution_count": 89,
     "metadata": {},
     "output_type": "execute_result"
    }
   ],
   "source": [
    "test.shape"
   ]
  },
  {
   "cell_type": "code",
   "execution_count": 90,
   "metadata": {},
   "outputs": [],
   "source": [
    "train = train[['User_ID', 'Product_ID', 'Gender', 'Occupation',\n",
    "       'Stay_In_Current_City_Years', 'Marital_Status', 'Product_Category_1',\n",
    "       'Product_Category_2', 'Product_Category_3', '0-17', '18-25',\n",
    "       '26-35', '36-45', '46-50', '51-55', '55+', 'A', 'B', 'C','Purchase']]"
   ]
  },
  {
   "cell_type": "code",
   "execution_count": 91,
   "metadata": {},
   "outputs": [
    {
     "data": {
      "text/plain": [
       "Index(['User_ID', 'Product_ID', 'Gender', 'Occupation',\n",
       "       'Stay_In_Current_City_Years', 'Marital_Status', 'Product_Category_1',\n",
       "       'Product_Category_2', 'Product_Category_3', '0-17', '18-25', '26-35',\n",
       "       '36-45', '46-50', '51-55', '55+', 'A', 'B', 'C', 'Purchase'],\n",
       "      dtype='object')"
      ]
     },
     "execution_count": 91,
     "metadata": {},
     "output_type": "execute_result"
    }
   ],
   "source": [
    "train.columns"
   ]
  },
  {
   "cell_type": "code",
   "execution_count": 92,
   "metadata": {},
   "outputs": [
    {
     "data": {
      "text/plain": [
       "Index(['User_ID', 'Product_ID', 'Gender', 'Occupation',\n",
       "       'Stay_In_Current_City_Years', 'Marital_Status', 'Product_Category_1',\n",
       "       'Product_Category_2', 'Product_Category_3', '0-17', '18-25', '26-35',\n",
       "       '36-45', '46-50', '51-55', '55+', 'A', 'B', 'C'],\n",
       "      dtype='object')"
      ]
     },
     "execution_count": 92,
     "metadata": {},
     "output_type": "execute_result"
    }
   ],
   "source": [
    "test.columns"
   ]
  },
  {
   "cell_type": "markdown",
   "metadata": {},
   "source": [
    "### Model Building"
   ]
  },
  {
   "cell_type": "markdown",
   "metadata": {},
   "source": [
    "Create train and test sets for training the machine learning model"
   ]
  },
  {
   "cell_type": "code",
   "execution_count": 93,
   "metadata": {},
   "outputs": [],
   "source": [
    "x_train=train.drop(['User_ID', 'Product_ID'],axis=1).iloc[:,:-1].values\n",
    "y_train=train.drop(['User_ID', 'Product_ID'],axis=1).iloc[:,-1].values"
   ]
  },
  {
   "cell_type": "code",
   "execution_count": 94,
   "metadata": {},
   "outputs": [],
   "source": [
    "x_test=test.drop(['User_ID', 'Product_ID'],axis=1).iloc[:,:].values"
   ]
  },
  {
   "cell_type": "markdown",
   "metadata": {},
   "source": [
    "#### Linear Regression"
   ]
  },
  {
   "cell_type": "code",
   "execution_count": 95,
   "metadata": {},
   "outputs": [],
   "source": [
    "from sklearn.linear_model import LinearRegression\n",
    "lr=LinearRegression()\n",
    "lr.fit(x_train,y_train)\n",
    "\n",
    "y_pred_lr=lr.predict(x_test)"
   ]
  },
  {
   "cell_type": "code",
   "execution_count": 96,
   "metadata": {},
   "outputs": [
    {
     "name": "stdout",
     "output_type": "stream",
     "text": [
      "        Product_ID  Purchase\n",
      "User_ID                     \n",
      "1000004  P00128942  10307.50\n",
      "1000009  P00113442  10076.00\n",
      "1000010  P00288442   8497.50\n",
      "1000010  P00145342   8783.75\n",
      "1000011  P00053842  10902.75\n"
     ]
    }
   ],
   "source": [
    "d={'User_ID':test['User_ID'],'Product_ID':test['Product_ID'],'Purchase':y_pred_lr}\n",
    "answerLR=pd.DataFrame(data=d)\n",
    "answerLR=answerLR.set_index(['User_ID'])\n",
    "answerLR.to_csv('BF1.csv')\n",
    "print(answerLR.head())"
   ]
  },
  {
   "cell_type": "code",
   "execution_count": null,
   "metadata": {},
   "outputs": [],
   "source": [
    "#from sklearn.svm import SVR\n",
    "#svr = SVR(kernel = 'linear')\n",
    "#svr.fit(x_train, y_train)\n",
    "\n",
    "#y_pred_svr=svr.predict(x_test)"
   ]
  },
  {
   "cell_type": "code",
   "execution_count": null,
   "metadata": {},
   "outputs": [],
   "source": [
    "#answerSVR=pd.DataFrame(data=d)\n",
    "#answerSVR=answerSVR.set_index(['User_ID'])\n",
    "#answerSVR.to_csv('BF2.csv')\n",
    "#print(answerSVR.head())"
   ]
  },
  {
   "cell_type": "markdown",
   "metadata": {},
   "source": [
    "#### Decision Tree"
   ]
  },
  {
   "cell_type": "code",
   "execution_count": 18,
   "metadata": {},
   "outputs": [],
   "source": [
    "from sklearn.tree import DecisionTreeRegressor\n",
    "dtr = DecisionTreeRegressor(random_state = 0)\n",
    "dtr.fit(x_train, y_train)\n",
    "\n",
    "# Predicting a new result\n",
    "y_pred_dtr = dtr.predict(x_test)"
   ]
  },
  {
   "cell_type": "code",
   "execution_count": 22,
   "metadata": {},
   "outputs": [
    {
     "name": "stdout",
     "output_type": "stream",
     "text": [
      "        Product_ID      Purchase\n",
      "User_ID                         \n",
      "1000004  P00128942  19576.000000\n",
      "1000009  P00113442  10677.000000\n",
      "1000010  P00288442   8357.222222\n",
      "1000010  P00145342   2056.000000\n",
      "1000011  P00053842   2743.000000\n"
     ]
    }
   ],
   "source": [
    "d={'User_ID':test['User_ID'],'Product_ID':test['Product_ID'],'Purchase':y_pred_dtr}\n",
    "answerDTR=pd.DataFrame(data=d)\n",
    "answerDTR=answerDTR.set_index(['User_ID'])\n",
    "answerDTR.to_csv('BF3.csv')\n",
    "print(answerDTR.head())"
   ]
  },
  {
   "cell_type": "markdown",
   "metadata": {},
   "source": [
    "#### Random Forest"
   ]
  },
  {
   "cell_type": "code",
   "execution_count": 23,
   "metadata": {},
   "outputs": [],
   "source": [
    "from sklearn.ensemble import RandomForestRegressor\n",
    "rf = RandomForestRegressor(n_estimators = 10, random_state = 0)\n",
    "rf.fit(x_train, y_train)\n",
    "\n",
    "# Predicting a new result\n",
    "y_pred_rf = rf.predict(x_test)"
   ]
  },
  {
   "cell_type": "code",
   "execution_count": 24,
   "metadata": {},
   "outputs": [
    {
     "name": "stdout",
     "output_type": "stream",
     "text": [
      "        Product_ID      Purchase\n",
      "User_ID                         \n",
      "1000004  P00128942  19576.000000\n",
      "1000009  P00113442  10677.000000\n",
      "1000010  P00288442   8357.222222\n",
      "1000010  P00145342   2056.000000\n",
      "1000011  P00053842   2743.000000\n"
     ]
    }
   ],
   "source": [
    "answerRF=pd.DataFrame(data=d)\n",
    "answerRF=answerRF.set_index(['User_ID'])\n",
    "answerRF.to_csv('BF4.csv')\n",
    "print(answerRF.head())"
   ]
  },
  {
   "cell_type": "markdown",
   "metadata": {},
   "source": [
    "#### XGBoost "
   ]
  },
  {
   "cell_type": "code",
   "execution_count": 27,
   "metadata": {},
   "outputs": [],
   "source": [
    "from xgboost import XGBRegressor\n",
    "xgb = XGBRegressor(n_estimators=1000, learning_rate=0.05)\n",
    "xgb.fit(x_train, y_train, verbose=False)\n",
    "\n",
    "y_pred_xg = xgb.predict(x_test)"
   ]
  },
  {
   "cell_type": "code",
   "execution_count": 29,
   "metadata": {},
   "outputs": [
    {
     "name": "stdout",
     "output_type": "stream",
     "text": [
      "        Product_ID      Purchase\n",
      "User_ID                         \n",
      "1000004  P00128942  19576.000000\n",
      "1000009  P00113442  10677.000000\n",
      "1000010  P00288442   8357.222222\n",
      "1000010  P00145342   2056.000000\n",
      "1000011  P00053842   2743.000000\n"
     ]
    }
   ],
   "source": [
    "answerXGB=pd.DataFrame(data=d)\n",
    "answerXGB=answerXGB.set_index(['User_ID'])\n",
    "answerXGB.to_csv('BF5.csv')\n",
    "print(answerXGB.head())"
   ]
  },
  {
   "cell_type": "markdown",
   "metadata": {},
   "source": [
    "#### CatBoost"
   ]
  },
  {
   "cell_type": "code",
   "execution_count": 28,
   "metadata": {},
   "outputs": [],
   "source": [
    "trainNew=pd.read_csv('/home/vinay/Downloads/Black Friday/train.csv')\n",
    "testNew=pd.read_csv('/home/vinay/Downloads/Black Friday/test.csv')"
   ]
  },
  {
   "cell_type": "code",
   "execution_count": 30,
   "metadata": {},
   "outputs": [],
   "source": [
    "x_trainNew=trainNew.drop(['User_ID', 'Product_ID'],axis=1).iloc[:,:-1].values\n",
    "y_trainNew=trainNew.drop(['User_ID', 'Product_ID'],axis=1).iloc[:,-1].values"
   ]
  },
  {
   "cell_type": "code",
   "execution_count": 31,
   "metadata": {},
   "outputs": [],
   "source": [
    "x_testNew=testNew.drop(['User_ID', 'Product_ID'],axis=1).iloc[:,:].values"
   ]
  },
  {
   "cell_type": "code",
   "execution_count": 36,
   "metadata": {},
   "outputs": [
    {
     "name": "stdout",
     "output_type": "stream",
     "text": [
      "0:\tlearn: 4193.9328049\ttotal: 167ms\tremaining: 16.5s\n",
      "1:\tlearn: 3968.0450462\ttotal: 277ms\tremaining: 13.6s\n",
      "2:\tlearn: 3700.3767646\ttotal: 405ms\tremaining: 13.1s\n",
      "3:\tlearn: 3571.1019783\ttotal: 511ms\tremaining: 12.3s\n",
      "4:\tlearn: 3247.6010574\ttotal: 614ms\tremaining: 11.7s\n",
      "5:\tlearn: 3165.6453820\ttotal: 730ms\tremaining: 11.4s\n",
      "6:\tlearn: 3113.7243640\ttotal: 834ms\tremaining: 11.1s\n",
      "7:\tlearn: 3081.7670148\ttotal: 940ms\tremaining: 10.8s\n",
      "8:\tlearn: 3069.4085440\ttotal: 1.04s\tremaining: 10.5s\n",
      "9:\tlearn: 3062.7037038\ttotal: 1.15s\tremaining: 10.3s\n",
      "10:\tlearn: 3043.6430970\ttotal: 1.23s\tremaining: 9.93s\n",
      "11:\tlearn: 3038.9111998\ttotal: 1.34s\tremaining: 9.84s\n",
      "12:\tlearn: 3023.9159927\ttotal: 1.44s\tremaining: 9.65s\n",
      "13:\tlearn: 3020.0705132\ttotal: 1.54s\tremaining: 9.44s\n",
      "14:\tlearn: 3016.0932666\ttotal: 1.66s\tremaining: 9.39s\n",
      "15:\tlearn: 3014.4490875\ttotal: 1.75s\tremaining: 9.19s\n",
      "16:\tlearn: 3012.2212981\ttotal: 1.85s\tremaining: 9.02s\n",
      "17:\tlearn: 3011.1214074\ttotal: 1.97s\tremaining: 8.97s\n",
      "18:\tlearn: 3007.1718114\ttotal: 2.07s\tremaining: 8.81s\n",
      "19:\tlearn: 3004.2595364\ttotal: 2.17s\tremaining: 8.67s\n",
      "20:\tlearn: 3002.7318501\ttotal: 2.28s\tremaining: 8.59s\n",
      "21:\tlearn: 3000.7760811\ttotal: 2.37s\tremaining: 8.41s\n",
      "22:\tlearn: 2997.3888283\ttotal: 2.47s\tremaining: 8.27s\n",
      "23:\tlearn: 2995.9956823\ttotal: 2.58s\tremaining: 8.19s\n",
      "24:\tlearn: 2995.0323231\ttotal: 2.68s\tremaining: 8.04s\n",
      "25:\tlearn: 2994.3900175\ttotal: 2.76s\tremaining: 7.85s\n",
      "26:\tlearn: 2993.4071557\ttotal: 2.87s\tremaining: 7.77s\n",
      "27:\tlearn: 2992.0416107\ttotal: 2.95s\tremaining: 7.59s\n",
      "28:\tlearn: 2991.2164197\ttotal: 3.05s\tremaining: 7.48s\n",
      "29:\tlearn: 2987.7717195\ttotal: 3.18s\tremaining: 7.42s\n",
      "30:\tlearn: 2985.9927631\ttotal: 3.28s\tremaining: 7.31s\n",
      "31:\tlearn: 2985.1925220\ttotal: 3.38s\tremaining: 7.18s\n",
      "32:\tlearn: 2984.5442301\ttotal: 3.49s\tremaining: 7.09s\n",
      "33:\tlearn: 2983.6829967\ttotal: 3.61s\tremaining: 7.01s\n",
      "34:\tlearn: 2982.9640105\ttotal: 3.72s\tremaining: 6.9s\n",
      "35:\tlearn: 2982.4877048\ttotal: 3.82s\tremaining: 6.79s\n",
      "36:\tlearn: 2979.7008654\ttotal: 3.95s\tremaining: 6.72s\n",
      "37:\tlearn: 2978.8430267\ttotal: 4.08s\tremaining: 6.67s\n",
      "38:\tlearn: 2978.2757815\ttotal: 4.21s\tremaining: 6.58s\n",
      "39:\tlearn: 2977.7237194\ttotal: 4.33s\tremaining: 6.49s\n",
      "40:\tlearn: 2975.7085386\ttotal: 4.45s\tremaining: 6.4s\n",
      "41:\tlearn: 2975.0241851\ttotal: 4.57s\tremaining: 6.3s\n",
      "42:\tlearn: 2974.1198720\ttotal: 4.66s\tremaining: 6.18s\n",
      "43:\tlearn: 2973.3515353\ttotal: 4.77s\tremaining: 6.08s\n",
      "44:\tlearn: 2972.9322895\ttotal: 4.88s\tremaining: 5.97s\n",
      "45:\tlearn: 2972.0998511\ttotal: 4.99s\tremaining: 5.86s\n",
      "46:\tlearn: 2971.2586299\ttotal: 5.11s\tremaining: 5.76s\n",
      "47:\tlearn: 2970.9687644\ttotal: 5.22s\tremaining: 5.65s\n",
      "48:\tlearn: 2970.4388092\ttotal: 5.33s\tremaining: 5.55s\n",
      "49:\tlearn: 2969.9909453\ttotal: 5.5s\tremaining: 5.5s\n",
      "50:\tlearn: 2969.6702435\ttotal: 5.67s\tremaining: 5.45s\n",
      "51:\tlearn: 2969.3656056\ttotal: 5.8s\tremaining: 5.36s\n",
      "52:\tlearn: 2968.9412515\ttotal: 5.9s\tremaining: 5.24s\n",
      "53:\tlearn: 2968.0027492\ttotal: 6.02s\tremaining: 5.13s\n",
      "54:\tlearn: 2967.5420236\ttotal: 6.13s\tremaining: 5.01s\n",
      "55:\tlearn: 2967.1008697\ttotal: 6.22s\tremaining: 4.89s\n",
      "56:\tlearn: 2966.8775824\ttotal: 6.33s\tremaining: 4.77s\n",
      "57:\tlearn: 2966.1857121\ttotal: 6.42s\tremaining: 4.65s\n",
      "58:\tlearn: 2965.9583308\ttotal: 6.54s\tremaining: 4.54s\n",
      "59:\tlearn: 2965.6041972\ttotal: 6.64s\tremaining: 4.42s\n",
      "60:\tlearn: 2965.3900507\ttotal: 6.73s\tremaining: 4.3s\n",
      "61:\tlearn: 2965.0130549\ttotal: 6.83s\tremaining: 4.19s\n",
      "62:\tlearn: 2964.6986317\ttotal: 6.94s\tremaining: 4.08s\n",
      "63:\tlearn: 2964.4107791\ttotal: 7.02s\tremaining: 3.95s\n",
      "64:\tlearn: 2964.1988415\ttotal: 7.14s\tremaining: 3.85s\n",
      "65:\tlearn: 2963.8757180\ttotal: 7.29s\tremaining: 3.75s\n",
      "66:\tlearn: 2963.6996909\ttotal: 7.48s\tremaining: 3.68s\n",
      "67:\tlearn: 2963.2048656\ttotal: 7.71s\tremaining: 3.63s\n",
      "68:\tlearn: 2962.9177341\ttotal: 7.88s\tremaining: 3.54s\n",
      "69:\tlearn: 2962.3073218\ttotal: 8s\tremaining: 3.43s\n",
      "70:\tlearn: 2962.0065466\ttotal: 8.1s\tremaining: 3.31s\n",
      "71:\tlearn: 2961.3500544\ttotal: 8.18s\tremaining: 3.18s\n",
      "72:\tlearn: 2961.2230434\ttotal: 8.29s\tremaining: 3.07s\n",
      "73:\tlearn: 2960.7194869\ttotal: 8.4s\tremaining: 2.95s\n",
      "74:\tlearn: 2960.4951032\ttotal: 8.57s\tremaining: 2.86s\n",
      "75:\tlearn: 2960.2104570\ttotal: 8.74s\tremaining: 2.76s\n",
      "76:\tlearn: 2959.3866456\ttotal: 8.92s\tremaining: 2.66s\n",
      "77:\tlearn: 2958.9527002\ttotal: 9s\tremaining: 2.54s\n",
      "78:\tlearn: 2958.6678964\ttotal: 9.07s\tremaining: 2.41s\n",
      "79:\tlearn: 2958.4311499\ttotal: 9.21s\tremaining: 2.3s\n",
      "80:\tlearn: 2958.2091984\ttotal: 9.29s\tremaining: 2.18s\n",
      "81:\tlearn: 2958.1063896\ttotal: 9.39s\tremaining: 2.06s\n",
      "82:\tlearn: 2958.0072945\ttotal: 9.49s\tremaining: 1.94s\n",
      "83:\tlearn: 2957.7719224\ttotal: 9.57s\tremaining: 1.82s\n",
      "84:\tlearn: 2957.6149323\ttotal: 9.67s\tremaining: 1.71s\n",
      "85:\tlearn: 2957.5405816\ttotal: 9.77s\tremaining: 1.59s\n",
      "86:\tlearn: 2957.2983439\ttotal: 9.87s\tremaining: 1.47s\n",
      "87:\tlearn: 2957.1687833\ttotal: 9.97s\tremaining: 1.36s\n",
      "88:\tlearn: 2956.9629090\ttotal: 10.1s\tremaining: 1.25s\n",
      "89:\tlearn: 2956.8592535\ttotal: 10.3s\tremaining: 1.14s\n",
      "90:\tlearn: 2956.5248598\ttotal: 10.5s\tremaining: 1.04s\n",
      "91:\tlearn: 2956.2960842\ttotal: 10.7s\tremaining: 929ms\n",
      "92:\tlearn: 2956.1897337\ttotal: 10.9s\tremaining: 819ms\n",
      "93:\tlearn: 2955.9176453\ttotal: 11.1s\tremaining: 705ms\n",
      "94:\tlearn: 2955.6505372\ttotal: 11.2s\tremaining: 590ms\n",
      "95:\tlearn: 2955.6418711\ttotal: 11.3s\tremaining: 471ms\n",
      "96:\tlearn: 2955.6235303\ttotal: 11.4s\tremaining: 352ms\n",
      "97:\tlearn: 2955.5300376\ttotal: 11.5s\tremaining: 234ms\n",
      "98:\tlearn: 2955.4541924\ttotal: 11.6s\tremaining: 117ms\n",
      "99:\tlearn: 2955.3043914\ttotal: 11.7s\tremaining: 0us\n"
     ]
    }
   ],
   "source": [
    "from catboost import CatBoostRegressor\n",
    "cate_features = np.where(trainNew.drop(['User_ID', 'Product_ID'],axis=1).dtypes == object)[0]\n",
    "#print(cate_features)\n",
    "cat_classifier_model=CatBoostRegressor(iterations=100, learning_rate=1, depth=2,random_seed=0)\n",
    "cat_classifier_model.fit(x_trainNew, y_trainNew, cat_features=cate_features)\n",
    "\n",
    "y_pred_categorical=cat_classifier_model.predict(x_testNew)"
   ]
  },
  {
   "cell_type": "code",
   "execution_count": 37,
   "metadata": {},
   "outputs": [
    {
     "name": "stdout",
     "output_type": "stream",
     "text": [
      "        Product_ID      Purchase\n",
      "User_ID                         \n",
      "1000004  P00128942  19576.000000\n",
      "1000009  P00113442  10677.000000\n",
      "1000010  P00288442   8357.222222\n",
      "1000010  P00145342   2056.000000\n",
      "1000011  P00053842   2743.000000\n"
     ]
    }
   ],
   "source": [
    "answerCB=pd.DataFrame(data=d)\n",
    "answerCB=answerCB.set_index(['User_ID'])\n",
    "answerCB.to_csv('BF6.csv')\n",
    "print(answerCB.head())"
   ]
  },
  {
   "cell_type": "markdown",
   "metadata": {},
   "source": [
    "### Result\n",
    "\n",
    "The Linear Regression model performed the worst whereas all the other models performed on the same level i.e. their rmse scores on submission were the same (3284.67)."
   ]
  }
 ],
 "metadata": {
  "kernelspec": {
   "display_name": "Python 3",
   "language": "python",
   "name": "python3"
  },
  "language_info": {
   "codemirror_mode": {
    "name": "ipython",
    "version": 3
   },
   "file_extension": ".py",
   "mimetype": "text/x-python",
   "name": "python",
   "nbconvert_exporter": "python",
   "pygments_lexer": "ipython3",
   "version": "3.6.8"
  }
 },
 "nbformat": 4,
 "nbformat_minor": 2
}
